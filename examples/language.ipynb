{
 "cells": [
  {
   "cell_type": "markdown",
   "id": "d6690980",
   "metadata": {},
   "source": [
    "# Plan Language\n",
    "The PyCRAM plan language is a way to structure the execuition of your plan. In generall the plan language allows to execute designators either sequential or in parallel. Furthermore, excpetions that occur during execution of a plan with the plan language do not interupt the execution instead they are catched and saved to a dictionary for later analysis. All language expressions return a State, this can either be SUCCEDED or FAILED.\n",
    "\n",
    "There are 4 language expressions: \n",
    "\n",
    "| Expression | Name | Description| \n",
    "| ---------- | ---- | ---------- |\n",
    "| + | **Sequential** | Executes the designators one after another, if one of the designators raises an exception the execution is aborted and the state FAILED will be returned.  |\n",
    "| - | **Try In Order** | Executes the designators one after another, if one designator raises an exception the exception is catched and saved but the execution is not interrupted and the other designators are executed. Returns the state SUCCEDED if at least one designator can be executed without exception. |\n",
    "| * | **Repeat** | Repeat the previous language expression a number of time. Has to be used with a language expression and an integer. | \n",
    "| \\| | **Parallel** | Executes all designators in parallel. For each designator there will be a new thread created and the designator is executed in this thread. If one of the designators raises an exception the returned state will be FAILED. |\n",
    "| ^ | **Try All** | Executes all designators in parallel with a designated thread for each designator. Returns the state SUCCEDED if at least one designator can be executed without an exception|\n",
    "| >> | **Monitor** | Monitors the execution of the attached langauge expression, will interrupt the execution as soon as a given condition is fulfilled. | \n",
    "\n",
    "The Sequential expression is the only one which aborts the execution once an error is raised. \n",
    "\n",
    "When using the plan language a tree structure of the plan is created where the language expressions are nodes and designators are leafs. This tree uses AnyTree (like the task tree) and can be rendered with the anytree Renderer.    "
   ]
  },
  {
   "cell_type": "markdown",
   "id": "fb240bbc",
   "metadata": {},
   "source": [
    "## Sequential\n",
    "This language expression allows to execute designators one after another, if one of the designators raises an exception the execution will be aborted and the state FAILED will be returned. \n",
    "\n",
    "We will start with a simple example that uses an action designator for moving the robot and parking its arms. "
   ]
  },
  {
   "cell_type": "code",
   "execution_count": 1,
   "id": "30b01905",
   "metadata": {},
   "outputs": [],
   "source": [
    "import time\n",
    "\n",
    "from pycram.designators.action_designator import *\n",
    "from pycram.datastructures.pose import Pose\n",
    "from pycram.datastructures.enums import Arms\n",
    "\n",
    "navigate = NavigateAction([Pose([1, 1, 0])])\n",
    "park = ParkArmsAction([Arms.BOTH])\n",
    "\n",
    "plan = navigate + park"
   ]
  },
  {
   "cell_type": "markdown",
   "id": "aa1a94a2",
   "metadata": {},
   "source": [
    "With this simple plan created we can inspect it and render the created tree structure. "
   ]
  },
  {
   "cell_type": "code",
   "execution_count": 2,
   "id": "33eb9292",
   "metadata": {},
   "outputs": [
    {
     "name": "stdout",
     "output_type": "stream",
     "text": [
      "<pycram.new_language.Sequential object at 0x7f473c230910>\n",
      "├── <pycram.designators.action_designator.NavigateAction object at 0x7f473c230970>\n",
      "└── <pycram.designators.action_designator.ParkArmsAction object at 0x7f473c2308b0>\n"
     ]
    }
   ],
   "source": [
    "from anytree import RenderTree\n",
    "\n",
    "print(RenderTree(plan))"
   ]
  },
  {
   "cell_type": "markdown",
   "id": "b1cd7fd2",
   "metadata": {},
   "source": [
    "As you can see there is the root node which is the language expression and then there are the leafs which are the designators. When executing this plan the Sequential node will try to execute the NavigateAction and if that is finished without any error the ParkArmsAction will be executed. \n",
    "\n",
    "The plan can be executed by wrapping it inside a ```with simulated_robot``` envirionment and calling perform on the plan. \n",
    "\n",
    "If you are performing a plan with a simulated robot, you need a BulletWorld. "
   ]
  },
  {
   "cell_type": "code",
   "execution_count": 1,
   "id": "e86caf8d",
   "metadata": {
    "ExecuteTime": {
     "end_time": "2024-01-10T13:40:14.972773461Z",
     "start_time": "2024-01-10T13:40:14.922450288Z"
    }
   },
   "outputs": [],
   "source": [
    "from pycram.worlds.bullet_world import BulletWorld, Object\n",
    "from pycram.datastructures.enums import ObjectType\n",
    "\n",
    "world = BulletWorld()\n",
    "pr2  = Object(\"pr2\", ObjectType.ROBOT, \"pr2.urdf\")"
   ]
  },
  {
   "cell_type": "markdown",
   "id": "67eb61d2",
   "metadata": {},
   "source": [
    "If you are finished with this example you can close the world with the cell below."
   ]
  },
  {
   "cell_type": "code",
   "execution_count": 10,
   "id": "fab4c0a8",
   "metadata": {},
   "outputs": [],
   "source": [
    "world.exit()"
   ]
  },
  {
   "cell_type": "code",
   "execution_count": 4,
   "id": "4bdda375",
   "metadata": {},
   "outputs": [],
   "source": [
    "from pycram.process_module import simulated_robot\n",
    "world.reset_bullet_world()\n",
    "\n",
    "with simulated_robot:\n",
    "    plan.perform()"
   ]
  },
  {
   "cell_type": "markdown",
   "id": "93eaa9bb",
   "metadata": {},
   "source": [
    "## Try In Order\n",
    "Try in order is similar to Sequential, it also executes all designators one after another but the key difference is that an exception in one of the designators does not terminate the whole execution. Furthermore, the state FAILED will only be returned if all designator executions raise an error. \n",
    "\n",
    "Besides the described differnce in behaviour this language expression can be used in the same way as Sequential."
   ]
  },
  {
   "cell_type": "code",
   "execution_count": 2,
   "id": "86d8887e",
   "metadata": {},
   "outputs": [],
   "source": [
    "from pycram.designators.action_designator import *\n",
    "from pycram.datastructures.pose import Pose\n",
    "from pycram.datastructures.enums import Arms\n",
    "from pycram.process_module import simulated_robot\n",
    "world.reset_bullet_world()\n",
    "\n",
    "navigate = NavigateAction([Pose([1, 1, 0])])\n",
    "park = ParkArmsAction([Arms.BOTH])\n",
    "\n",
    "plan = navigate - park\n",
    "\n",
    "with simulated_robot:\n",
    "    \n",
    "    plan.perform()"
   ]
  },
  {
   "cell_type": "markdown",
   "id": "8edad65b",
   "metadata": {},
   "source": [
    "## Parallel \n",
    "Parallel executes all designator at once in dedicated threads. The execution of other designators is not aborted when a exception is raised, this is the case since threads can not be killed from the outside and this would also cause unforseen problems. The state returned will be SUCCEDED if all designators could be executed without an exception raised in any other case FAILED will be returned.\n",
    "\n",
    "Since executing designators in parallel can get chaotic especially with complex actions like PickUp or Transport. For this reason not all action designators can be used in parallel and try all expressions. The list of action designator that cannot be used in language expressions can be seen in ```Language.parallel_blocklist```.\n",
    "\n",
    "Designators that cannot be used in parallel and try all:\n",
    "  * PickUpAction\n",
    "  * PlaceAction\n",
    "  * OpenAction \n",
    "  * CloseAction \n",
    "  * TransportAction\n",
    "  \n",
    "Using the parallel expressions works like Sequential and TryInOrder. "
   ]
  },
  {
   "cell_type": "code",
   "execution_count": 3,
   "id": "2180c7eb",
   "metadata": {},
   "outputs": [],
   "source": [
    "from pycram.designators.action_designator import *\n",
    "from pycram.datastructures.pose import Pose\n",
    "from pycram.datastructures.enums import Arms\n",
    "from pycram.process_module import simulated_robot\n",
    "world.reset_world()\n",
    "\n",
    "navigate = NavigateAction([Pose([1, 1, 0])])\n",
    "park = ParkArmsAction([Arms.BOTH])\n",
    "\n",
    "plan = navigate | park\n",
    "\n",
    "with simulated_robot:\n",
    "    plan.perform()"
   ]
  },
  {
   "cell_type": "markdown",
   "id": "ff711f9a",
   "metadata": {},
   "source": [
    "## Try All \n",
    "TryAll is to Parallel what TryInOrder is to Sequential, meaning TryAll will also execute all designators in parallel but will return SUCCEEDED if at least one designator is executed without raising an exception. \n",
    "\n",
    "TryAll can be used like any other language expression. "
   ]
  },
  {
   "cell_type": "code",
   "execution_count": 4,
   "id": "c0b093cb",
   "metadata": {},
   "outputs": [],
   "source": [
    "from pycram.designators.action_designator import *\n",
    "from pycram.datastructures.pose import Pose\n",
    "from pycram.datastructures.enums import Arms\n",
    "from pycram.process_module import simulated_robot\n",
    "world.reset_bullet_world()\n",
    "\n",
    "navigate = NavigateAction([Pose([1, 1, 0])])\n",
    "park = ParkArmsAction([Arms.BOTH])\n",
    "\n",
    "plan = navigate ^ park\n",
    "\n",
    "with simulated_robot:\n",
    "    plan.perform()"
   ]
  },
  {
   "cell_type": "markdown",
   "id": "bfbe1df4",
   "metadata": {},
   "source": [
    "## Combination of Expressions \n",
    "You can also combine different language expressions to further structure your plans. If you combine sequential and paralle expression please keep in mind that sequential expressions bind stringer than parallel ones. For example: \n",
    "```\n",
    "navigate | park + move_torso\n",
    "```\n",
    "In this case 'park' and 'move_torso' would form a Sequential expression and 'naviagte' would form a Parallel expression with Sequential. You can try this yourself in the following cell."
   ]
  },
  {
   "cell_type": "code",
   "execution_count": 5,
   "id": "4f1ea709",
   "metadata": {},
   "outputs": [],
   "source": [
    "from pycram.designators.action_designator import *\n",
    "from pycram.datastructures.pose import Pose\n",
    "from pycram.datastructures.enums import Arms\n",
    "from pycram.process_module import simulated_robot\n",
    "world.reset_world()\n",
    "\n",
    "navigate = NavigateAction([Pose([1, 1, 0])])\n",
    "park = ParkArmsAction([Arms.BOTH])\n",
    "move_torso = MoveTorsoAction([0.3])\n",
    "\n",
    "plan = navigate | park + move_torso\n",
    "\n",
    "with simulated_robot:\n",
    "    plan.perform()"
   ]
  },
  {
   "cell_type": "markdown",
   "id": "0daef354",
   "metadata": {},
   "source": [
    "## Code Objects\n",
    "You can not only use designators in the plan language but also python code. For this there is the ```Code```  object which takes a callable and the arguments for this callable. This allows you to execute arbitrary code in a plan. \n",
    "\n",
    "The callable that is used in the ```Code``` object can either be a lambda expression or, for more complex code, a function. If you use a function you can provide parameters as keyword-arguments."
   ]
  },
  {
   "cell_type": "code",
   "execution_count": 6,
   "id": "f3f7784b",
   "metadata": {},
   "outputs": [
    {
     "name": "stdout",
     "output_type": "stream",
     "text": [
      "This is from the code object--------------------\n",
      "Code funtion\n",
      "\n"
     ]
    }
   ],
   "source": [
    "from pycram.designators.action_designator import *\n",
    "from pycram.datastructures.enums import Arms\n",
    "from pycram.process_module import simulated_robot\n",
    "from pycram.language import Code\n",
    "\n",
    "def code_test(param):\n",
    "    print(\"-\" * 20)\n",
    "    print(param)\n",
    "\n",
    "park = ParkArmsAction([Arms.BOTH])\n",
    "code = Code(lambda: print(\"This is from the code object\"))\n",
    "code_func = Code(code_test, {\"param\": \"Code funtion\"})\n",
    "\n",
    "plan = navigate | code | code_func\n",
    "\n",
    "with simulated_robot:\n",
    "    plan.perform()"
   ]
  },
  {
   "cell_type": "markdown",
   "id": "0879b81e",
   "metadata": {},
   "source": [
    "## Exception Handling\n",
    "If an exception is raised during the execution of a designator when it is used in a language expression the exception will be catched and saved to a dictionary. In genereal all designators in a language expression are executed regardless of exceptions raised, the only exception from this is the Sequential expression which stops after it encountered an exception. \n",
    "\n",
    "The language will only catch exceptions that are of type ```PlanFailure``` meaning errors that are defined in plan_failures.py in PyCRAM. This also means normal Python errors, such as KeyError, will interrupt the execution of your designators. \n",
    "\n",
    "We will see how exceptions are handled at a simple example."
   ]
  },
  {
   "cell_type": "code",
   "execution_count": 7,
   "id": "f6d8ec84",
   "metadata": {},
   "outputs": [
    {
     "name": "stdout",
     "output_type": "stream",
     "text": [
      "{<pycram.language.Parallel object at 0x7fde3c03dbe0>: [PlanFailure()]}\n"
     ]
    }
   ],
   "source": [
    "from pycram.designators.action_designator import *\n",
    "from pycram.process_module import simulated_robot\n",
    "from pycram.language import Code\n",
    "from pycram.plan_failures import PlanFailure\n",
    "\n",
    "def code_test():\n",
    "    raise PlanFailure\n",
    "\n",
    "navigate = NavigateAction([Pose([1, 1, 0])])\n",
    "code_func = Code(code_test)\n",
    "\n",
    "plan = navigate | code_func\n",
    "\n",
    "with simulated_robot:\n",
    "    plan.perform()\n",
    "    \n",
    "print(plan.exceptions)"
   ]
  },
  {
   "cell_type": "markdown",
   "id": "1e9d9e9c",
   "metadata": {},
   "source": [
    "## Repeat \n",
    "Repeat simply repeats a language expression a number of times. As all other language expressions Repeat capturtes exceptions that occur during execution and saves them to the dictionary in the root of the plan.\n",
    "\n",
    "Since Repeat uses the \\* operator you should keep in mind that it will be evaluated before any other operator, so use parentheses to ensure the correct structure of your plan. \n",
    "\n",
    "You can see an example of how to use Repeat below."
   ]
  },
  {
   "cell_type": "code",
   "execution_count": 8,
   "id": "8781fdd5",
   "metadata": {},
   "outputs": [],
   "source": [
    "from pycram.designators.action_designator import *\n",
    "from pycram.process_module import simulated_robot\n",
    "\n",
    "move_torso_up = MoveTorsoAction([0.3])\n",
    "move_torso_down = MoveTorsoAction([0.])\n",
    "\n",
    "plan = (move_torso_up + move_torso_down) * 5\n",
    "\n",
    "with simulated_robot:\n",
    "    plan.perform()"
   ]
  },
  {
   "cell_type": "markdown",
   "id": "ed931ef4",
   "metadata": {},
   "source": [
    "## Monitor\n",
    "Monitor allows to monitor the execution of a language expression and interrupt it as soon as a given condition is fulfilled. The condition can either be a Callable which returns a boolean or a Fluent.\n",
    "When executed the Monitor will create a separate thread which will check if the condition is satisfied with a frequency of 10 Hz. If the condition is satisfied the execution of the language expression will be interrupted.\n",
    "\n",
    "For the example on how Monitors work we will use the previous example with the robot moving up and down. We will use a Monitor to interrupt the execution after 2 seconds instead of executing the whole plan 5 times."
   ]
  },
  {
   "cell_type": "code",
   "execution_count": 9,
   "id": "5695d740",
   "metadata": {},
   "outputs": [],
   "source": [
    "from pycram.designators.action_designator import *\n",
    "from pycram.process_module import simulated_robot\n",
    "from pycram.language import Monitor\n",
    "\n",
    "move_torso_up = MoveTorsoAction([0.3])\n",
    "move_torso_down = MoveTorsoAction([0.])\n",
    "\n",
    "def monitor_func():\n",
    "    time.sleep(2)\n",
    "    return True\n",
    "\n",
    "plan = (move_torso_up + move_torso_down) * 5 >> Monitor(monitor_func)\n",
    "\n",
    "with simulated_robot:\n",
    "    plan.perform()"
   ]
  }
 ],
 "metadata": {
  "kernelspec": {
   "display_name": "Python 3",
   "language": "python",
   "name": "python3"
  },
  "language_info": {
   "codemirror_mode": {
    "name": "ipython",
    "version": 3
   },
   "file_extension": ".py",
   "mimetype": "text/x-python",
   "name": "python",
   "nbconvert_exporter": "python",
   "pygments_lexer": "ipython3",
   "version": "3.8.10"
  }
 },
 "nbformat": 4,
 "nbformat_minor": 5
}
