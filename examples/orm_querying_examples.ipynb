{
 "cells": [
  {
   "cell_type": "markdown",
   "id": "15d0886b",
   "metadata": {},
   "source": [
    "# ORM querying examples\n",
    "\n",
    "In this tutorial, we will get to see more examples of ORM querying. "
   ]
  },
  {
   "cell_type": "markdown",
   "id": "31385bc6",
   "metadata": {},
   "source": [
    "First, we will gather a lot of data. In order to achieve that we will write a randomized experiment for grasping a couple of objects.\n",
    "In the experiment the robot will try to grasp a randomized object using random poses and torso heights.\n"
   ]
  },
  {
   "cell_type": "code",
   "execution_count": 1,
   "id": "71de1567",
   "metadata": {
    "ExecuteTime": {
     "end_time": "2024-01-29T16:54:39.452156158Z",
     "start_time": "2024-01-29T16:54:38.500054294Z"
    }
   },
   "outputs": [],
   "source": [
    "from tf import transformations\n",
    "import itertools\n",
    "import time\n",
    "from typing import Optional, List, Tuple\n",
    "\n",
    "import numpy as np\n",
    "\n",
    "import sqlalchemy.orm\n",
    "import tf\n",
    "import tqdm\n",
    "\n",
    "import pycram.orm.base\n",
    "from pycram.worlds.bullet_world import BulletWorld\n",
    "from pycram.world_concepts.world_object import Object as BulletWorldObject\n",
    "from pycram.designators.action_designator import MoveTorsoAction, PickUpAction, NavigateAction, ParkArmsAction\n",
    "from pycram.designators.object_designator import ObjectDesignatorDescription\n",
    "from pycram.plan_failures import PlanFailure\n",
    "from pycram.process_module import ProcessModule\n",
    "from pycram.datastructures.enums import Arms, ObjectType, Grasp\n",
    "\n",
    "from pycram.process_module import simulated_robot\n",
    "import sqlalchemy.orm\n",
    "# from pycram.resolver.location.jpt_location import JPTCostmapLocation\n",
    "import pycram.orm\n",
    "from pycram.orm.base import Position, RobotState\n",
    "from pycram.orm.tasktree import TaskTreeNode\n",
    "from pycram.orm.action_designator import PickUpAction as ORMPickUpAction\n",
    "from pycram.orm.object_designator import Object\n",
    "import sqlalchemy.sql\n",
    "import pandas as pd\n",
    "\n",
    "from pycram.datastructures.pose import Pose\n",
    "\n",
    "np.random.seed(420)\n",
    "\n",
    "ProcessModule.execution_delay = False\n",
    "pycram.orm.base.ProcessMetaData().description = \"Tutorial for learning from experience in a Grasping action.\"\n",
    "\n",
    "\n",
    "class GraspingExplorer:\n",
    "    \"\"\"Class to try randomized grasping plans.\"\"\"\n",
    "\n",
    "    world: Optional[BulletWorld]\n",
    "\n",
    "    def __init__(self, robots: Optional[List[Tuple[str, str]]] = None, objects: Optional[List[Tuple[str, str]]] = None,\n",
    "                 arms: Optional[List[Arms]] = None, grasps: Optional[List[Grasp]] = None,\n",
    "                 samples_per_scenario: int = 1000):\n",
    "        \"\"\"\n",
    "        Create a GraspingExplorer.\n",
    "        :param robots: The robots to use\n",
    "        :param objects: The objects to try to grasp\n",
    "        :param arms: The arms of the robot to use\n",
    "        :param grasps: The grasp orientations to use\n",
    "        :param samples_per_scenario: The number of tries per scenario.\n",
    "        \"\"\"\n",
    "        # store exploration space\n",
    "        if not robots:\n",
    "            self.robots: List[Tuple[str, str]] = [(\"pr2\", \"pr2.urdf\")]\n",
    "\n",
    "        if not objects:\n",
    "            self.objects: List[Tuple[str, ObjectType, str]] = [(\"cereal\", ObjectType.BREAKFAST_CEREAL, \"breakfast_cereal.stl\"),\n",
    "                                                                            (\"bowl\", ObjectType.BOWL, \"bowl.stl\"),\n",
    "                                                                            (\"milk\", ObjectType.MILK, \"milk.stl\"),\n",
    "                                                                            (\"spoon\", ObjectType.SPOON, \"spoon.stl\")]\n",
    "\n",
    "        if not arms:\n",
    "            self.arms: List[str] = [Arms.LEFT, Arms.RIGHT]\n",
    "\n",
    "        if not grasps:\n",
    "            self.grasps: List[str] = [Grasp.LEFT, Grasp.RIGHT, Grasp.FRONT, Grasp.TOP]\n",
    "\n",
    "        # store trials per scenario\n",
    "        self.samples_per_scenario: int = samples_per_scenario\n",
    "\n",
    "        # chain hyperparameters\n",
    "        self.hyper_parameters = [self.robots, self.objects, self.arms, self.grasps]\n",
    "\n",
    "        self.total_tries = 0\n",
    "        self.total_failures = 0\n",
    "\n",
    "    def perform(self, session: sqlalchemy.orm.Session):\n",
    "        \"\"\"\n",
    "        Perform all experiments.\n",
    "        :param session: The database-session to insert the samples in.\n",
    "        \"\"\"\n",
    "\n",
    "        # create progress bar\n",
    "        progress_bar = tqdm.tqdm(\n",
    "            total=np.prod([len(p) for p in self.hyper_parameters]) * self.samples_per_scenario)\n",
    "\n",
    "        self.world = BulletWorld(\"DIRECT\")\n",
    "\n",
    "        # for every robot\n",
    "        for robot, robot_urdf in self.robots:\n",
    "\n",
    "            # spawn it\n",
    "            robot = BulletWorldObject(robot, ObjectType.ROBOT, robot_urdf)\n",
    "\n",
    "            # for every obj\n",
    "            for obj, obj_type, obj_stl in self.objects:\n",
    "\n",
    "                # spawn it\n",
    "                bw_object = BulletWorldObject(obj, obj_type, obj_stl, pose=Pose([0, 0, 0.75], [0, 0, 0, 1]))\n",
    "\n",
    "                # create object designator\n",
    "                object_designator = ObjectDesignatorDescription(names=[obj])\n",
    "\n",
    "                # for every arm and grasp pose\n",
    "                for arm, grasp in itertools.product(self.arms, self.grasps):\n",
    "                    # sample positions in 2D\n",
    "                    positions = np.random.uniform([-2, -2], [2, 2], (self.samples_per_scenario, 2))\n",
    "\n",
    "                    # for every position\n",
    "                    for position in positions:\n",
    "\n",
    "                        # set z axis to 0\n",
    "                        position = [*position, 0]\n",
    "\n",
    "                        # calculate orientation for robot to face the object\n",
    "                        angle = np.arctan2(position[1], position[0]) + np.pi\n",
    "                        orientation = list(transformations.quaternion_from_euler(0, 0, angle, axes=\"sxyz\"))\n",
    "\n",
    "                        # try to execute a grasping plan\n",
    "                        with simulated_robot:\n",
    "\n",
    "                            ParkArmsActionPerformable(Arms.BOTH).perform()\n",
    "                            # navigate to sampled position\n",
    "                            NavigateAction([Pose(position, orientation)]).resolve().perform()\n",
    "\n",
    "                            # move torso\n",
    "                            height = np.random.uniform(0., 0.33, 1)[0]\n",
    "                            MoveTorsoActionPerformable(height).perform()\n",
    "\n",
    "                            # try to pick it up\n",
    "                            try:\n",
    "                                PickUpAction(object_designator, [arm], [grasp]).resolve().perform()\n",
    "\n",
    "                            # if it fails\n",
    "                            except PlanFailure:\n",
    "\n",
    "                                # update failure stats\n",
    "                                self.total_failures += 1\n",
    "\n",
    "                            # reset BulletWorld\n",
    "                            self.world.reset_world()\n",
    "\n",
    "                            # update progress bar\n",
    "                            self.total_tries += 1\n",
    "\n",
    "                            # insert into database\n",
    "                            pycram.tasktree.task_tree.insert(session, use_progress_bar=False)\n",
    "                            pycram.tasktree.reset_tree()\n",
    "\n",
    "                            progress_bar.update()\n",
    "                            progress_bar.set_postfix(success_rate=(self.total_tries - self.total_failures) /\n",
    "                                                                  self.total_tries)\n",
    "\n",
    "                bw_object.remove()\n",
    "            robot.remove()\n"
   ]
  },
  {
   "cell_type": "markdown",
   "id": "0182c495",
   "metadata": {},
   "source": [
    "Next we have to establish a connection to a database and execute the experiment a couple of times. Note that the (few) number of samples we generate is only for demonstrations.\n",
    "For robust and reliable machine learning millions of samples are required.\n"
   ]
  },
  {
   "cell_type": "code",
   "execution_count": 2,
   "id": "6ffa0f89",
   "metadata": {
    "ExecuteTime": {
     "end_time": "2024-01-29T16:56:53.360247565Z",
     "start_time": "2024-01-29T16:54:39.452769369Z"
    }
   },
   "outputs": [
    {
     "name": "stderr",
     "output_type": "stream",
     "text": [
      "  0%|          | 0/960 [00:00<?, ?it/s]Unknown tag \"rgba_color\" in /robot[@name='cereal_object']/link[@name='cereal_main']/visual[1]/material[@name='white']\n",
      "Unknown tag \"rgba_color\" in /robot[@name='cereal_object']/link[@name='cereal_main']/visual[1]/material[@name='white']\n"
     ]
    },
    {
     "name": "stdout",
     "output_type": "stream",
     "text": [
      "[INFO] [1719918516.175953]: Ontology [http://www.ease-crc.org/ont/SOMA-HOME.owl#]'s name: SOMA-HOME has been loaded\n",
      "[INFO] [1719918516.176909]: - main namespace: SOMA-HOME\n",
      "[INFO] [1719918516.177794]: - loaded ontologies:\n",
      "[INFO] [1719918516.178436]: http://www.ease-crc.org/ont/SOMA-HOME.owl#\n",
      "[INFO] [1719918516.178996]: http://www.ease-crc.org/ont/DUL.owl#\n",
      "[INFO] [1719918516.179437]: http://www.ease-crc.org/ont/SOMA.owl#\n"
     ]
    },
    {
     "name": "stderr",
     "output_type": "stream",
     "text": [
      "  0%|          | 1/960 [00:04<1:14:30,  4.66s/it, success_rate=0]"
     ]
    },
    {
     "name": "stdout",
     "output_type": "stream",
     "text": [
      "[INFO] [1719918516.409346]: Waiting for IK service: /pr2_left_arm_kinematics/get_ik\n"
     ]
    },
    {
     "name": "stderr",
     "output_type": "stream",
     "text": [
      " 25%|██▌       | 240/960 [01:41<03:12,  3.73it/s, success_rate=0.1]   Unknown tag \"rgba_color\" in /robot[@name='bowl_object']/link[@name='bowl_main']/visual[1]/material[@name='white']\n",
      "Unknown tag \"rgba_color\" in /robot[@name='bowl_object']/link[@name='bowl_main']/visual[1]/material[@name='white']\n",
      " 50%|█████     | 480/960 [03:18<02:20,  3.40it/s, success_rate=0.0813]Unknown tag \"rgba_color\" in /robot[@name='milk_object']/link[@name='milk_main']/visual[1]/material[@name='white']\n",
      "Unknown tag \"rgba_color\" in /robot[@name='milk_object']/link[@name='milk_main']/visual[1]/material[@name='white']\n",
      " 75%|███████▌  | 720/960 [04:55<01:08,  3.49it/s, success_rate=0.0819]Unknown tag \"rgba_color\" in /robot[@name='spoon_object']/link[@name='spoon_main']/visual[1]/material[@name='white']\n",
      "Unknown tag \"rgba_color\" in /robot[@name='spoon_object']/link[@name='spoon_main']/visual[1]/material[@name='white']\n",
      "100%|██████████| 960/960 [06:35<00:00,  3.90it/s, success_rate=0.0854]"
     ]
    }
   ],
   "source": [
    "engine = sqlalchemy.create_engine(\"sqlite+pysqlite:///:memory:\")\n",
    "session = sqlalchemy.orm.Session(bind=engine)\n",
    "pycram.orm.base.Base.metadata.create_all(bind=engine)\n",
    "session.commit()\n",
    "\n",
    "explorer = GraspingExplorer(samples_per_scenario=30)\n",
    "explorer.perform(session)"
   ]
  },
  {
   "cell_type": "markdown",
   "id": "e9a28272",
   "metadata": {},
   "source": [
    "The success_rate of the output above indicates how many of our samples succeeded in trying to grasp a randomized object."
   ]
  },
  {
   "cell_type": "markdown",
   "id": "788c29f0",
   "metadata": {},
   "source": [
    "Now that we have data to query from and a running session, we can actually start creating queries. \n",
    "Let's say we want to select positions of robots that were able to grasp a specific object (in this case a \"milk\" object):"
   ]
  },
  {
   "cell_type": "code",
   "execution_count": 3,
   "id": "f67fe7cc",
   "metadata": {
    "ExecuteTime": {
     "end_time": "2024-01-29T16:56:53.362279642Z",
     "start_time": "2024-01-29T16:56:53.360090447Z"
    }
   },
   "outputs": [
    {
     "name": "stderr",
     "output_type": "stream",
     "text": [
      "Unknown tag \"rgba_color\" in /robot[@name='milk_object']/link[@name='milk_main']/visual[1]/material[@name='white']\n",
      "Unknown tag \"rgba_color\" in /robot[@name='milk_object']/link[@name='milk_main']/visual[1]/material[@name='white']\n"
     ]
    },
    {
     "ename": "AttributeError",
     "evalue": "type object 'TaskTreeNode' has no attribute 'code'",
     "output_type": "error",
     "traceback": [
      "\u001b[0;31m---------------------------------------------------------------------------\u001b[0m",
      "\u001b[0;31mAttributeError\u001b[0m                            Traceback (most recent call last)",
      "Cell \u001b[0;32mIn[3], line 9\u001b[0m\n\u001b[1;32m      4\u001b[0m milk \u001b[38;5;241m=\u001b[39m BulletWorldObject(\u001b[38;5;124m\"\u001b[39m\u001b[38;5;124mMilk\u001b[39m\u001b[38;5;124m\"\u001b[39m, ObjectType\u001b[38;5;241m.\u001b[39mMILK, \u001b[38;5;124m\"\u001b[39m\u001b[38;5;124mmilk.stl\u001b[39m\u001b[38;5;124m\"\u001b[39m)\n\u001b[1;32m      6\u001b[0m \u001b[38;5;66;03m# query all relative robot positions in regard to an objects position\u001b[39;00m\n\u001b[1;32m      7\u001b[0m \u001b[38;5;66;03m# make sure to order the joins() correctly\u001b[39;00m\n\u001b[1;32m      8\u001b[0m query \u001b[38;5;241m=\u001b[39m (select(ORMPickUpAction\u001b[38;5;241m.\u001b[39marm, ORMPickUpAction\u001b[38;5;241m.\u001b[39mgrasp, RobotState\u001b[38;5;241m.\u001b[39mtorso_height, Position\u001b[38;5;241m.\u001b[39mx, Position\u001b[38;5;241m.\u001b[39my)\n\u001b[0;32m----> 9\u001b[0m          \u001b[38;5;241m.\u001b[39mjoin(\u001b[43mTaskTreeNode\u001b[49m\u001b[38;5;241;43m.\u001b[39;49m\u001b[43mcode\u001b[49m)\n\u001b[1;32m     10\u001b[0m          \u001b[38;5;241m.\u001b[39mjoin(Code\u001b[38;5;241m.\u001b[39mdesignator\u001b[38;5;241m.\u001b[39mof_type(ORMPickUpAction))\n\u001b[1;32m     11\u001b[0m          \u001b[38;5;241m.\u001b[39mjoin(ORMPickUpAction\u001b[38;5;241m.\u001b[39mrobot_state)\n\u001b[1;32m     12\u001b[0m          \u001b[38;5;241m.\u001b[39mjoin(RobotState\u001b[38;5;241m.\u001b[39mpose)\n\u001b[1;32m     13\u001b[0m          \u001b[38;5;241m.\u001b[39mjoin(pycram\u001b[38;5;241m.\u001b[39morm\u001b[38;5;241m.\u001b[39mbase\u001b[38;5;241m.\u001b[39mPose\u001b[38;5;241m.\u001b[39mposition)\n\u001b[1;32m     14\u001b[0m          \u001b[38;5;241m.\u001b[39mjoin(ORMPickUpAction\u001b[38;5;241m.\u001b[39mobject)\u001b[38;5;241m.\u001b[39mwhere(Object\u001b[38;5;241m.\u001b[39mtype \u001b[38;5;241m==\u001b[39m milk\u001b[38;5;241m.\u001b[39mtype)\n\u001b[1;32m     15\u001b[0m                                       \u001b[38;5;241m.\u001b[39mwhere(TaskTreeNode\u001b[38;5;241m.\u001b[39mstatus \u001b[38;5;241m==\u001b[39m \u001b[38;5;124m\"\u001b[39m\u001b[38;5;124mSUCCEEDED\u001b[39m\u001b[38;5;124m\"\u001b[39m))\n\u001b[1;32m     16\u001b[0m \u001b[38;5;28mprint\u001b[39m(query)\n\u001b[1;32m     18\u001b[0m df \u001b[38;5;241m=\u001b[39m pd\u001b[38;5;241m.\u001b[39mread_sql_query(query, session\u001b[38;5;241m.\u001b[39mget_bind())\n",
      "\u001b[0;31mAttributeError\u001b[0m: type object 'TaskTreeNode' has no attribute 'code'"
     ]
    }
   ],
   "source": [
    "from sqlalchemy import select\n",
    "from pycram.datastructures.enums import ObjectType\n",
    "\n",
    "milk = BulletWorldObject(\"Milk\", ObjectType.MILK, \"milk.stl\")\n",
    "\n",
    "# query all relative robot positions in regard to an objects position\n",
    "# make sure to order the joins() correctly\n",
    "query = (select(ORMPickUpAction.arm, ORMPickUpAction.grasp, RobotState.torso_height, Position.x, Position.y)\n",
    "         .join(TaskTreeNode.code)\n",
    "         .join(Code.designator.of_type(ORMPickUpAction))\n",
    "         .join(ORMPickUpAction.robot_state)\n",
    "         .join(RobotState.pose)\n",
    "         .join(pycram.orm.base.Pose.position)\n",
    "         .join(ORMPickUpAction.object).where(Object.type == milk.type)\n",
    "                                      .where(TaskTreeNode.status == \"SUCCEEDED\"))\n",
    "print(query)\n",
    "\n",
    "df = pd.read_sql_query(query, session.get_bind())\n",
    "print(df)"
   ]
  },
  {
   "cell_type": "markdown",
   "id": "2cd07b40",
   "metadata": {},
   "source": [
    "If you are not familiar with sqlalchemy querying you might wonder what the of_type() function does and why we needed it in this query:\n",
    "\n",
    "In order to understand the importance of the of_type() function in the joins above it is crucial to understand the inheritance structure in the ORM package. The action necessary for this query is the PickUpAction. It inherits the Action class/table (which holds all the actions). The Action class itself on the other hand inherits Designator (which holds all the actions, but also all the motions). \n",
    "We started our joins by joining TaskTreeNode on its relationship to Code and Code on its relationship to Designator. Next table we need is the PickUpAction table, but there is no specified relationship between Designator and PickUpAction. But we do know that a PickUpAction is actually a Designator, meaning, it inherits from Designator. So we can just \"tell\" the join to join Code on every Designator, that is \"of_type\" PickUpAction (.join(Code.designator.of_type(ORMPickUpAction))). \n",
    "The effect of this function can also be seen in the printed query of above's output. "
   ]
  },
  {
   "cell_type": "markdown",
   "id": "f337365d",
   "metadata": {},
   "source": [
    "Another interesting query: Let's say we want to select the torso height and positions of robots relative to the object they were trying to grasp:"
   ]
  },
  {
   "cell_type": "code",
   "execution_count": 4,
   "id": "0120dceb",
   "metadata": {
    "ExecuteTime": {
     "end_time": "2024-01-29T16:56:53.408414208Z",
     "start_time": "2024-01-29T16:56:53.408012819Z"
    }
   },
   "outputs": [
    {
     "ename": "AttributeError",
     "evalue": "type object 'Object' has no attribute 'type'",
     "output_type": "error",
     "traceback": [
      "\u001b[0;31m---------------------------------------------------------------------------\u001b[0m",
      "\u001b[0;31mAttributeError\u001b[0m                            Traceback (most recent call last)",
      "Cell \u001b[0;32mIn[4], line 8\u001b[0m\n\u001b[1;32m      5\u001b[0m robot_position \u001b[38;5;241m=\u001b[39m sqlalchemy\u001b[38;5;241m.\u001b[39morm\u001b[38;5;241m.\u001b[39maliased(Position)\n\u001b[1;32m      6\u001b[0m object_position \u001b[38;5;241m=\u001b[39m sqlalchemy\u001b[38;5;241m.\u001b[39morm\u001b[38;5;241m.\u001b[39maliased(Position)\n\u001b[0;32m----> 8\u001b[0m query \u001b[38;5;241m=\u001b[39m (select(TaskTreeNode\u001b[38;5;241m.\u001b[39mstatus, \u001b[43mObject\u001b[49m\u001b[38;5;241;43m.\u001b[39;49m\u001b[43mtype\u001b[49m, \n\u001b[1;32m      9\u001b[0m                        sqlalchemy\u001b[38;5;241m.\u001b[39mlabel(\u001b[38;5;124m\"\u001b[39m\u001b[38;5;124mrelative torso height\u001b[39m\u001b[38;5;124m\"\u001b[39m, object_position\u001b[38;5;241m.\u001b[39mz \u001b[38;5;241m-\u001b[39m RobotState\u001b[38;5;241m.\u001b[39mtorso_height),\n\u001b[1;32m     10\u001b[0m                        sqlalchemy\u001b[38;5;241m.\u001b[39mlabel(\u001b[38;5;124m\"\u001b[39m\u001b[38;5;124mx\u001b[39m\u001b[38;5;124m\"\u001b[39m, robot_position\u001b[38;5;241m.\u001b[39mx \u001b[38;5;241m-\u001b[39m object_position\u001b[38;5;241m.\u001b[39mx),\n\u001b[1;32m     11\u001b[0m                        sqlalchemy\u001b[38;5;241m.\u001b[39mlabel(\u001b[38;5;124m\"\u001b[39m\u001b[38;5;124my\u001b[39m\u001b[38;5;124m\"\u001b[39m, robot_position\u001b[38;5;241m.\u001b[39my \u001b[38;5;241m-\u001b[39m object_position\u001b[38;5;241m.\u001b[39my))\n\u001b[1;32m     12\u001b[0m          \u001b[38;5;241m.\u001b[39mjoin(TaskTreeNode\u001b[38;5;241m.\u001b[39mcode)\n\u001b[1;32m     13\u001b[0m          \u001b[38;5;241m.\u001b[39mjoin(Code\u001b[38;5;241m.\u001b[39mdesignator\u001b[38;5;241m.\u001b[39mof_type(ORMPickUpAction))\n\u001b[1;32m     14\u001b[0m          \u001b[38;5;241m.\u001b[39mjoin(ORMPickUpAction\u001b[38;5;241m.\u001b[39mrobot_state)\n\u001b[1;32m     15\u001b[0m          \u001b[38;5;241m.\u001b[39mjoin(robot_pose, RobotState\u001b[38;5;241m.\u001b[39mpose)\n\u001b[1;32m     16\u001b[0m          \u001b[38;5;241m.\u001b[39mjoin(robot_position, robot_pose\u001b[38;5;241m.\u001b[39mposition)\n\u001b[1;32m     17\u001b[0m          \u001b[38;5;241m.\u001b[39mjoin(ORMPickUpAction\u001b[38;5;241m.\u001b[39mobject)\n\u001b[1;32m     18\u001b[0m          \u001b[38;5;241m.\u001b[39mjoin(object_pose, Object\u001b[38;5;241m.\u001b[39mpose)\n\u001b[1;32m     19\u001b[0m          \u001b[38;5;241m.\u001b[39mjoin(object_position, object_pose\u001b[38;5;241m.\u001b[39mposition))\n\u001b[1;32m     20\u001b[0m \u001b[38;5;28mprint\u001b[39m(query)\n\u001b[1;32m     22\u001b[0m df \u001b[38;5;241m=\u001b[39m pd\u001b[38;5;241m.\u001b[39mread_sql(query, session\u001b[38;5;241m.\u001b[39mget_bind())\n",
      "\u001b[0;31mAttributeError\u001b[0m: type object 'Object' has no attribute 'type'"
     ]
    }
   ],
   "source": [
    "from pycram.orm.base import Pose as ORMPose\n",
    "\n",
    "robot_pose = sqlalchemy.orm.aliased(ORMPose)\n",
    "object_pose = sqlalchemy.orm.aliased(ORMPose)\n",
    "robot_position = sqlalchemy.orm.aliased(Position)\n",
    "object_position = sqlalchemy.orm.aliased(Position)\n",
    "\n",
    "query = (select(TaskTreeNode.status, Object.type, \n",
    "                       sqlalchemy.label(\"relative torso height\", object_position.z - RobotState.torso_height),\n",
    "                       sqlalchemy.label(\"x\", robot_position.x - object_position.x),\n",
    "                       sqlalchemy.label(\"y\", robot_position.y - object_position.y))\n",
    "         .join(TaskTreeNode.code)\n",
    "         .join(Code.designator.of_type(ORMPickUpAction))\n",
    "         .join(ORMPickUpAction.robot_state)\n",
    "         .join(robot_pose, RobotState.pose)\n",
    "         .join(robot_position, robot_pose.position)\n",
    "         .join(ORMPickUpAction.object)\n",
    "         .join(object_pose, Object.pose)\n",
    "         .join(object_position, object_pose.position))\n",
    "print(query)\n",
    "\n",
    "df = pd.read_sql(query, session.get_bind())\n",
    "df[\"status\"] = df[\"status\"].apply(lambda x: str(x.name))\n",
    "print(df)"
   ]
  },
  {
   "cell_type": "markdown",
   "id": "bb133d09",
   "metadata": {},
   "source": [
    "Obviously the query returned every row of the database since we didn't apply any filters.\n",
    "\n",
    "Why is this query interesting? This query not only required more joins and the usage of the of_type() function, but we actually needed to access two of the tables twice with different purposes, namely the Pose and Position tables. We wanted to get the position of the robot relative to the object position, meaning we had to obtain all robot positions and all object positions. If we want to access the same table twice, we have to make sure to rename (one of) the occurrences in our query in order to provide proper sql syntax. This can be done by creating aliases using the sqlalchemy.orm.aliased() function. Sqlalchemy will automatically rename all the aliased tables for you during runtime."
   ]
  }
 ],
 "metadata": {
  "kernelspec": {
   "display_name": "Python 3",
   "language": "python",
   "name": "python3"
  },
  "language_info": {
   "codemirror_mode": {
    "name": "ipython",
    "version": 3
   },
   "file_extension": ".py",
   "mimetype": "text/x-python",
   "name": "python",
   "nbconvert_exporter": "python",
   "pygments_lexer": "ipython3",
   "version": "3.8.10"
  }
 },
 "nbformat": 4,
 "nbformat_minor": 5
}
