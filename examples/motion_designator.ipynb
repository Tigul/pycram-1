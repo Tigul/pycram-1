{
 "cells": [
  {
   "cell_type": "markdown",
   "id": "f31d623d",
   "metadata": {},
   "source": [
    "# Motion Designator\n",
    "Motion designators are similar to action designators, but unlike action designators, motion designators represent atomic low-level motions. Motion designators only take the parameter that they should execute and not a list of possible parameters, like the other designators. Like action designators, motion designators can be performed, performing motion designator verifies the parameter and passes the designator to the respective process module. \n",
    "\n",
    "Since motion designators perform a motion on the robot, we need a robot which we can use. Therefore, we will create a BulletWorld as well as a PR2 robot."
   ]
  },
  {
   "cell_type": "code",
   "execution_count": 1,
   "id": "f398e610",
   "metadata": {
    "ExecuteTime": {
     "end_time": "2024-01-29T16:47:00.051126267Z",
     "start_time": "2024-01-29T16:46:56.312023994Z"
    }
   },
   "outputs": [],
   "source": [
    "from pycram.worlds.bullet_world import BulletWorld, Object\n",
    "from pycram.datastructures.enums import ObjectType\n",
    "\n",
    "world = BulletWorld(WorldMode.GUI)\n",
    "pr2 = Object(\"pr2\", ObjectType.ROBOT, \"pr2.urdf\")"
   ]
  },
  {
   "cell_type": "markdown",
   "id": "ee905321",
   "metadata": {},
   "source": [
    "The following cell can be used after testing the examples, to close the BulletWorld."
   ]
  },
  {
   "cell_type": "code",
   "execution_count": 14,
   "id": "30930ddd",
   "metadata": {
    "ExecuteTime": {
     "end_time": "2024-01-29T16:47:00.051774984Z",
     "start_time": "2024-01-29T16:47:00.048239557Z"
    }
   },
   "outputs": [],
   "source": [
    "world.exit()"
   ]
  },
  {
   "cell_type": "markdown",
   "id": "891ecbe3",
   "metadata": {},
   "source": [
    "## Move\n",
    "Move is used to let the robot drive to the given target pose. Motion designator are used in the same way as the other designator, first create a description then resolve it to the actual designator and lastly, perform the resolved designator. "
   ]
  },
  {
   "cell_type": "code",
   "execution_count": 2,
   "id": "30f6ca00",
   "metadata": {
    "ExecuteTime": {
     "end_time": "2024-01-29T16:47:00.576314628Z",
     "start_time": "2024-01-29T16:47:00.051456576Z"
    }
   },
   "outputs": [],
   "source": [
    "from pycram.datastructures.pose import Pose\n",
    "from pycram.designators.motion_designator import MoveMotion\n",
    "from pycram.process_module import simulated_robot\n",
    "\n",
    "with simulated_robot:\n",
    "    motion_description = MoveMotion(target=Pose([1, 0, 0], [0, 0, 0, 1]))\n",
    "    \n",
    "    motion_description.perform()"
   ]
  },
  {
   "cell_type": "code",
   "execution_count": 5,
   "id": "e5c8fb91",
   "metadata": {
    "ExecuteTime": {
     "end_time": "2024-01-29T16:47:00.594527954Z",
     "start_time": "2024-01-29T16:47:00.591545638Z"
    }
   },
   "outputs": [],
   "source": [
    "world.reset_world()"
   ]
  },
  {
   "cell_type": "markdown",
   "id": "6db2d1dc",
   "metadata": {},
   "source": [
    "## MoveTCP\n",
    "MoveTCP is used to move the tool center point (TCP) of the given arm to the target position specified by the parameter. Like any designator we start by creating a description and then resolving and performing it."
   ]
  },
  {
   "cell_type": "code",
   "execution_count": 6,
   "id": "fd55216d",
   "metadata": {
    "ExecuteTime": {
     "end_time": "2024-01-29T16:47:01.122650746Z",
     "start_time": "2024-01-29T16:47:00.593841452Z"
    }
   },
   "outputs": [],
   "source": [
    "from pycram.designators.motion_designator import MoveTCPMotion\n",
    "from pycram.process_module import simulated_robot\n",
    "from pycram.datastructures.enums import Arms\n",
    "\n",
    "with simulated_robot:\n",
    "    motion_description = MoveTCPMotion(target=Pose([0.5, 0.6, 0.6], [0, 0, 0, 1]), arm=Arms.LEFT)\n",
    "    \n",
    "    motion_description.perform()"
   ]
  },
  {
   "cell_type": "markdown",
   "id": "51b1ea44",
   "metadata": {},
   "source": [
    "## Looking\n",
    "Looking motion designator adjusts the robot state such that the cameras point towards the target pose. Although this motion designator takes the target as position and orientation, in reality only the position is used. "
   ]
  },
  {
   "cell_type": "code",
   "execution_count": 7,
   "id": "146237f1",
   "metadata": {
    "ExecuteTime": {
     "end_time": "2024-01-29T16:47:01.633288773Z",
     "start_time": "2024-01-29T16:47:01.135133088Z"
    }
   },
   "outputs": [],
   "source": [
    "from pycram.designators.motion_designator import LookingMotion\n",
    "from pycram.process_module import simulated_robot\n",
    "\n",
    "with simulated_robot:\n",
    "    motion_description = LookingMotion(target=Pose([1, 1, 1], [0, 0, 0, 1]))\n",
    "    \n",
    "    motion_description.perform()"
   ]
  },
  {
   "cell_type": "markdown",
   "id": "0c188f24",
   "metadata": {},
   "source": [
    "## Move Gripper\n",
    "Move gripper moves the gripper of an arm to one of two states. The states can be ```open``` and ```close```, which open and close the gripper respectively."
   ]
  },
  {
   "cell_type": "code",
   "execution_count": 8,
   "id": "8491975c",
   "metadata": {
    "ExecuteTime": {
     "end_time": "2024-01-29T16:47:02.149528442Z",
     "start_time": "2024-01-29T16:47:01.647168572Z"
    }
   },
   "outputs": [],
   "source": [
    "from pycram.designators.motion_designator import MoveGripperMotion\n",
    "from pycram.process_module import simulated_robot\n",
    "from pycram.datastructures.enums import Arms, GripperState\n",
    "\n",
    "with simulated_robot:\n",
    "    motion_description = MoveGripperMotion(motion=GripperState.OPEN, gripper=Arms.LEFT)\n",
    "    \n",
    "    motion_description.perform()"
   ]
  },
  {
   "cell_type": "markdown",
   "id": "e230abc3",
   "metadata": {},
   "source": [
    "## Detecting \n",
    "This is the motion designator implementation of detecting, if an object with the given object type is in the field of view (FOV) this motion designator will return an object designator describing the object.\n",
    "\n",
    "Since we need an object that we can detect, we will spawn a milk for this."
   ]
  },
  {
   "cell_type": "code",
   "execution_count": 9,
   "id": "9e0bc8c9",
   "metadata": {
    "ExecuteTime": {
     "end_time": "2024-01-29T16:47:02.199992775Z",
     "start_time": "2024-01-29T16:47:02.150827945Z"
    }
   },
   "outputs": [
    {
     "name": "stderr",
     "output_type": "stream",
     "text": [
      "Unknown tag \"rgba_color\" in /robot[@name='milk_object']/link[@name='milk_main']/visual[1]/material[@name='white']\n",
      "Unknown tag \"rgba_color\" in /robot[@name='milk_object']/link[@name='milk_main']/visual[1]/material[@name='white']\n"
     ]
    }
   ],
   "source": [
    "milk = Object(\"milk\", ObjectType.MILK, \"milk.stl\", pose=Pose([1.5, 0, 1]))"
   ]
  },
  {
   "cell_type": "code",
   "execution_count": 10,
   "id": "2a3ae28d",
   "metadata": {
    "ExecuteTime": {
     "end_time": "2024-01-29T16:47:03.473751479Z",
     "start_time": "2024-01-29T16:47:02.201339779Z"
    }
   },
   "outputs": [
    {
     "name": "stdout",
     "output_type": "stream",
     "text": [
      "ObjectDesignatorDescription.Object(name=milk, obj_type=ObjectType.MILK, world_object=Object(_saved_states={}, \n",
      "id=3, \n",
      "world=<pycram.worlds.bullet_world.BulletWorld object at 0x7f7c168f1bb0>, \n",
      "name=milk, \n",
      "obj_type=ObjectType.MILK, \n",
      "color=Color(R=1, G=1, B=1, A=1), \n",
      "description: ..., \n",
      "cache_manager=<pycram.cache_manager.CacheManager object at 0x7f7c168f1910>, \n",
      "local_transformer=<pycram.local_transformer.LocalTransformer object at 0x7f7c168f1a30>, \n",
      "original_pose=header: \n",
      "  seq: 0\n",
      "  stamp: \n",
      "    secs: 1719582873\n",
      "    nsecs: 134599447\n",
      "  frame_id: \"map\"\n",
      "pose: \n",
      "  position: \n",
      "    x: 1.5\n",
      "    y: 0.0\n",
      "    z: 1.0\n",
      "  orientation: \n",
      "    x: 0.0\n",
      "    y: 0.0\n",
      "    z: 0.0\n",
      "    w: 1.0, \n",
      "_current_pose=header: \n",
      "  seq: 0\n",
      "  stamp: \n",
      "    secs: 1719582873\n",
      "    nsecs: 134599447\n",
      "  frame_id: \"map\"\n",
      "pose: \n",
      "  position: \n",
      "    x: 1.5\n",
      "    y: 0.0\n",
      "    z: 1.0\n",
      "  orientation: \n",
      "    x: 0.0\n",
      "    y: 0.0\n",
      "    z: 0.0\n",
      "    w: 1.0, \n",
      "path=/home/jdech/workspace/ros/src/pycram-1/src/pycram/datastructures/../../../resources/cached/milk.urdf, \n",
      "tf_frame=milk, \n",
      "joint_name_to_id={}, \n",
      "joint_id_to_name={}, \n",
      "link_name_to_id={'milk_main': -1}, \n",
      "link_id_to_name={-1: 'milk_main'}, \n",
      "links: ..., \n",
      "joints: ..., \n",
      "attachments: ...), _pose=<bound method Object.get_pose of Object(_saved_states={}, \n",
      "id=3, \n",
      "world=<pycram.worlds.bullet_world.BulletWorld object at 0x7f7c168f1bb0>, \n",
      "name=milk, \n",
      "obj_type=ObjectType.MILK, \n",
      "color=Color(R=1, G=1, B=1, A=1), \n",
      "description: ..., \n",
      "cache_manager=<pycram.cache_manager.CacheManager object at 0x7f7c168f1910>, \n",
      "local_transformer=<pycram.local_transformer.LocalTransformer object at 0x7f7c168f1a30>, \n",
      "original_pose=header: \n",
      "  seq: 0\n",
      "  stamp: \n",
      "    secs: 1719582873\n",
      "    nsecs: 134599447\n",
      "  frame_id: \"map\"\n",
      "pose: \n",
      "  position: \n",
      "    x: 1.5\n",
      "    y: 0.0\n",
      "    z: 1.0\n",
      "  orientation: \n",
      "    x: 0.0\n",
      "    y: 0.0\n",
      "    z: 0.0\n",
      "    w: 1.0, \n",
      "_current_pose=header: \n",
      "  seq: 0\n",
      "  stamp: \n",
      "    secs: 1719582873\n",
      "    nsecs: 134599447\n",
      "  frame_id: \"map\"\n",
      "pose: \n",
      "  position: \n",
      "    x: 1.5\n",
      "    y: 0.0\n",
      "    z: 1.0\n",
      "  orientation: \n",
      "    x: 0.0\n",
      "    y: 0.0\n",
      "    z: 0.0\n",
      "    w: 1.0, \n",
      "path=/home/jdech/workspace/ros/src/pycram-1/src/pycram/datastructures/../../../resources/cached/milk.urdf, \n",
      "tf_frame=milk, \n",
      "joint_name_to_id={}, \n",
      "joint_id_to_name={}, \n",
      "link_name_to_id={'milk_main': -1}, \n",
      "link_id_to_name={-1: 'milk_main'}, \n",
      "links: ..., \n",
      "joints: ..., \n",
      "attachments: ...)>, pose=header: \n",
      "  seq: 0\n",
      "  stamp: \n",
      "    secs: 1719582873\n",
      "    nsecs: 134599447\n",
      "  frame_id: \"map\"\n",
      "pose: \n",
      "  position: \n",
      "    x: 1.5\n",
      "    y: 0.0\n",
      "    z: 1.0\n",
      "  orientation: \n",
      "    x: 0.0\n",
      "    y: 0.0\n",
      "    z: 0.0\n",
      "    w: 1.0)\n"
     ]
    }
   ],
   "source": [
    "from pycram.designators.motion_designator import DetectingMotion, LookingMotion\n",
    "from pycram.process_module import simulated_robot\n",
    "\n",
    "with simulated_robot:\n",
    "    LookingMotion(target=Pose([1.5, 0, 1], [0, 0, 0, 1])).perform()\n",
    "    \n",
    "    motion_description = DetectingMotion(object_type=ObjectType.MILK)\n",
    "    \n",
    "    obj = motion_description.perform()\n",
    "    \n",
    "    print(obj)"
   ]
  },
  {
   "cell_type": "markdown",
   "id": "04010416",
   "metadata": {},
   "source": [
    "## Move Arm Joints\n",
    "This motion designator moves one or both arms. Movement targets are a dictionary with joint name as key and target pose as value. "
   ]
  },
  {
   "cell_type": "code",
   "execution_count": 11,
   "id": "e3547377",
   "metadata": {
    "ExecuteTime": {
     "end_time": "2024-01-29T16:47:03.979196754Z",
     "start_time": "2024-01-29T16:47:03.482859314Z"
    }
   },
   "outputs": [],
   "source": [
    "from pycram.designators.motion_designator import MoveArmJointsMotion\n",
    "from pycram.process_module import simulated_robot\n",
    "\n",
    "with simulated_robot:\n",
    "    motion_description = MoveArmJointsMotion(right_arm_poses={\"r_shoulder_pan_joint\": -0.7})\n",
    "    \n",
    "    motion_description.perform()"
   ]
  },
  {
   "cell_type": "markdown",
   "id": "dc761408",
   "metadata": {},
   "source": [
    "## World State Detecting\n",
    "World state detecting is also used to detect objects, however, the object is not required to be in the FOV of the robot. As long as the object is somewhere in the belief state (BulletWorld) a resolved object designator will be returned.\n",
    "\n",
    "Sine we want to detect something we will spawn an object that we can detect. If you already spawned the milk from the previous example, you can skip this step."
   ]
  },
  {
   "cell_type": "code",
   "execution_count": 11,
   "id": "b408d5ee",
   "metadata": {
    "ExecuteTime": {
     "end_time": "2024-01-29T16:47:04.035948673Z",
     "start_time": "2024-01-29T16:47:03.980202995Z"
    }
   },
   "outputs": [],
   "source": [
    "milk = Object(\"milk\", ObjectType.MILK, \"milk.stl\", pose=Pose([-1, 0, 1]))"
   ]
  },
  {
   "cell_type": "code",
   "execution_count": 12,
   "id": "238d9bfc",
   "metadata": {
    "ExecuteTime": {
     "end_time": "2024-01-29T16:47:04.540918323Z",
     "start_time": "2024-01-29T16:47:04.035986657Z"
    }
   },
   "outputs": [
    {
     "name": "stdout",
     "output_type": "stream",
     "text": [
      "Object(_saved_states={}, \n",
      "id=3, \n",
      "world=<pycram.worlds.bullet_world.BulletWorld object at 0x7f7c168f1bb0>, \n",
      "name=milk, \n",
      "obj_type=ObjectType.MILK, \n",
      "color=Color(R=1, G=1, B=1, A=1), \n",
      "description: ..., \n",
      "cache_manager=<pycram.cache_manager.CacheManager object at 0x7f7c168f1910>, \n",
      "local_transformer=<pycram.local_transformer.LocalTransformer object at 0x7f7c168f1a30>, \n",
      "original_pose=header: \n",
      "  seq: 0\n",
      "  stamp: \n",
      "    secs: 1719582873\n",
      "    nsecs: 134599447\n",
      "  frame_id: \"map\"\n",
      "pose: \n",
      "  position: \n",
      "    x: 1.5\n",
      "    y: 0.0\n",
      "    z: 1.0\n",
      "  orientation: \n",
      "    x: 0.0\n",
      "    y: 0.0\n",
      "    z: 0.0\n",
      "    w: 1.0, \n",
      "_current_pose=header: \n",
      "  seq: 0\n",
      "  stamp: \n",
      "    secs: 1719582873\n",
      "    nsecs: 134599447\n",
      "  frame_id: \"map\"\n",
      "pose: \n",
      "  position: \n",
      "    x: 1.5\n",
      "    y: 0.0\n",
      "    z: 1.0\n",
      "  orientation: \n",
      "    x: 0.0\n",
      "    y: 0.0\n",
      "    z: 0.0\n",
      "    w: 1.0, \n",
      "path=/home/jdech/workspace/ros/src/pycram-1/src/pycram/datastructures/../../../resources/cached/milk.urdf, \n",
      "tf_frame=milk, \n",
      "joint_name_to_id={}, \n",
      "joint_id_to_name={}, \n",
      "link_name_to_id={'milk_main': -1}, \n",
      "link_id_to_name={-1: 'milk_main'}, \n",
      "links: ..., \n",
      "joints: ..., \n",
      "attachments: ...)\n"
     ]
    }
   ],
   "source": [
    "from pycram.designators.motion_designator import WorldStateDetectingMotion\n",
    "from pycram.process_module import simulated_robot\n",
    "\n",
    "with simulated_robot:\n",
    "    motion_description = WorldStateDetectingMotion(object_type=ObjectType.MILK)\n",
    "    \n",
    "    obj = motion_description.perform()\n",
    "    \n",
    "    print(obj)"
   ]
  },
  {
   "cell_type": "markdown",
   "id": "f12d1a35",
   "metadata": {},
   "source": [
    "## Move Joints\n",
    "Move joints can move any number of joints of the robot, the designator takes two lists as parameter. The first list are the names of all joints that should be moved and the second list are the positions to which the joints should be moved."
   ]
  },
  {
   "cell_type": "code",
   "execution_count": 13,
   "id": "c3cbeac7",
   "metadata": {
    "ExecuteTime": {
     "end_time": "2024-01-29T16:47:05.046180891Z",
     "start_time": "2024-01-29T16:47:04.548113629Z"
    }
   },
   "outputs": [],
   "source": [
    "from pycram.designators.motion_designator import MoveJointsMotion\n",
    "from pycram.process_module import simulated_robot\n",
    "\n",
    "with simulated_robot:\n",
    "    motion_description = MoveJointsMotion(names=[\"torso_lift_joint\", \"r_shoulder_pan_joint\"], positions=[0.2, -1.2])\n",
    "    \n",
    "    motion_description.perform()"
   ]
  }
 ],
 "metadata": {
  "kernelspec": {
   "display_name": "Python 3",
   "language": "python",
   "name": "python3"
  },
  "language_info": {
   "codemirror_mode": {
    "name": "ipython",
    "version": 3
   },
   "file_extension": ".py",
   "mimetype": "text/x-python",
   "name": "python",
   "nbconvert_exporter": "python",
   "pygments_lexer": "ipython3",
   "version": "3.8.10"
  }
 },
 "nbformat": 4,
 "nbformat_minor": 5
}
