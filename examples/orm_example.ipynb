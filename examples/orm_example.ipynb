{
 "cells": [
  {
   "cell_type": "markdown",
   "metadata": {},
   "source": [
    "# Hands on Object Relational Mapping in PyCram\n",
    "\n",
    "This tutorial will walk you through the serialization of a minimal plan in pycram.\n",
    "First we will import sqlalchemy, create an in memory database and connect a session to it."
   ]
  },
  {
   "cell_type": "code",
   "execution_count": 1,
   "metadata": {
    "ExecuteTime": {
     "end_time": "2024-01-29T16:51:09.128875369Z",
     "start_time": "2024-01-29T16:51:08.956260897Z"
    }
   },
   "outputs": [
    {
     "data": {
      "text/plain": [
       "<sqlalchemy.orm.session.Session at 0x7f8f9e4cfac0>"
      ]
     },
     "execution_count": 1,
     "metadata": {},
     "output_type": "execute_result"
    }
   ],
   "source": [
    "import sqlalchemy\n",
    "import sqlalchemy.orm\n",
    "\n",
    "engine = sqlalchemy.create_engine(\"sqlite+pysqlite:///:memory:\", echo=False)\n",
    "session = sqlalchemy.orm.Session(bind=engine)\n",
    "session"
   ]
  },
  {
   "cell_type": "markdown",
   "metadata": {},
   "source": [
    "Next we create the database schema using the sqlalchemy functionality. For that we need to import the base class of pycram.orm."
   ]
  },
  {
   "cell_type": "code",
   "execution_count": 2,
   "metadata": {
    "ExecuteTime": {
     "end_time": "2024-01-29T16:51:09.568683265Z",
     "start_time": "2024-01-29T16:51:09.124071834Z"
    }
   },
   "outputs": [],
   "source": [
    "import pycram.orm.base\n",
    "import pycram.orm.action_designator\n",
    "pycram.orm.base.Base.metadata.create_all(engine)\n",
    "session.commit()"
   ]
  },
  {
   "cell_type": "markdown",
   "metadata": {},
   "source": [
    "Next we will write a simple plan where the robot parks his arms and then moves somewhere. We will construct a TaskTree around it such that we can serialize it later. As usual, we first create a world and then define the plan. By doing so, we obtain the task tree."
   ]
  },
  {
   "cell_type": "code",
   "execution_count": 3,
   "metadata": {
    "ExecuteTime": {
     "end_time": "2024-01-29T16:51:35.305706324Z",
     "start_time": "2024-01-29T16:51:09.568597034Z"
    }
   },
   "outputs": [
    {
     "name": "stderr",
     "output_type": "stream",
     "text": [
      "Scalar element defined multiple times: limit\n",
      "Unknown tag \"rgba_color\" in /robot[@name='milk_object']/link[@name='milk_main']/visual[1]/material[@name='white']\n",
      "Unknown tag \"rgba_color\" in /robot[@name='cereal_object']/link[@name='cereal_main']/visual[1]/material[@name='white']\n",
      "Scalar element defined multiple times: limit\n",
      "Unknown tag \"rgba_color\" in /robot[@name='milk_object']/link[@name='milk_main']/visual[1]/material[@name='white']\n",
      "Unknown tag \"rgba_color\" in /robot[@name='cereal_object']/link[@name='cereal_main']/visual[1]/material[@name='white']\n"
     ]
    },
    {
     "name": "stdout",
     "output_type": "stream",
     "text": [
      "[INFO] [1719919094.609041]: Ontology [http://www.ease-crc.org/ont/SOMA-HOME.owl#]'s name: SOMA-HOME has been loaded\n",
      "[INFO] [1719919094.609908]: - main namespace: SOMA-HOME\n",
      "[INFO] [1719919094.610788]: - loaded ontologies:\n",
      "[INFO] [1719919094.611264]: http://www.ease-crc.org/ont/SOMA-HOME.owl#\n",
      "[INFO] [1719919094.611735]: http://www.ease-crc.org/ont/DUL.owl#\n",
      "[INFO] [1719919094.612237]: http://www.ease-crc.org/ont/SOMA.owl#\n",
      "[INFO] [1719919095.385427]: Waiting for IK service: /pr2_left_arm_kinematics/get_ik\n",
      "NoOperation\n",
      "└── NoOperation\n",
      "    ├── ParkArmsActionPerformable\n",
      "    ├── MoveTorsoActionPerformable\n",
      "    ├── NavigateActionPerformable\n",
      "    │   └── MoveMotion\n",
      "    ├── PickUpActionPerformable\n",
      "    │   ├── MoveTCPMotion\n",
      "    │   ├── MoveGripperMotion\n",
      "    │   ├── MoveTCPMotion\n",
      "    │   ├── MoveGripperMotion\n",
      "    │   └── MoveTCPMotion\n",
      "    ├── ParkArmsActionPerformable\n",
      "    ├── NavigateActionPerformable\n",
      "    │   └── MoveMotion\n",
      "    ├── PlaceActionPerformable\n",
      "    │   ├── MoveTCPMotion\n",
      "    │   ├── MoveGripperMotion\n",
      "    │   └── MoveTCPMotion\n",
      "    └── ParkArmsActionPerformable\n"
     ]
    }
   ],
   "source": [
    "from pycram.designators.action_designator import *\n",
    "from pycram.designators.location_designator import *\n",
    "from pycram.process_module import simulated_robot\n",
    "from pycram.datastructures.enums import Arms, ObjectType, Grasp\n",
    "from pycram.tasktree import with_tree\n",
    "import pycram.tasktree\n",
    "from pycram.world_concepts.world_object import Object\n",
    "from pycram.designators.object_designator import *\n",
    "from pycram.datastructures.pose import Pose\n",
    "import anytree\n",
    "\n",
    "world = BulletWorld(WorldMode.GUI)\n",
    "pr2 = Object(\"pr2\", ObjectType.ROBOT, \"pr2.urdf\")\n",
    "kitchen = Object(\"kitchen\", ObjectType.ENVIRONMENT, \"kitchen.urdf\")\n",
    "milk = Object(\"milk\", ObjectType.MILK, \"milk.stl\", pose=Pose([1.3, 1, 0.9]))\n",
    "cereal = Object(\"cereal\", ObjectType.BREAKFAST_CEREAL, \"breakfast_cereal.stl\", pose=Pose([1.3, 0.7, 0.95]))\n",
    "milk_desig = ObjectDesignatorDescription(names=[\"milk\"])\n",
    "cereal_desig = ObjectDesignatorDescription(names=[\"cereal\"])\n",
    "robot_desig = ObjectDesignatorDescription(names=[\"pr2\"]).resolve()\n",
    "kitchen_desig = ObjectDesignatorDescription(names=[\"kitchen\"])\n",
    "\n",
    "@with_tree\n",
    "def plan():\n",
    "    with simulated_robot:\n",
    "        ParkArmsActionPerformable(Arms.BOTH).perform()\n",
    "        MoveTorsoAction([0.2]).resolve().perform()\n",
    "        pickup_pose = CostmapLocation(target=cereal_desig.resolve(), reachable_for=robot_desig).resolve()\n",
    "        pickup_arm = pickup_pose.reachable_arms[0]\n",
    "        NavigateAction(target_locations=[pickup_pose.pose]).resolve().perform()\n",
    "        PickUpAction(object_designator_description=cereal_desig, arms=[pickup_arm], grasps=[Grasp.FRONT]).resolve().perform()\n",
    "        ParkArmsAction([Arms.BOTH]).resolve().perform()\n",
    "\n",
    "        place_island = SemanticCostmapLocation(\"kitchen_island_surface\", kitchen_desig.resolve(),\n",
    "                                           cereal_desig.resolve()).resolve()\n",
    "\n",
    "        place_stand = CostmapLocation(place_island.pose, reachable_for=robot_desig, reachable_arm=pickup_arm).resolve()\n",
    "\n",
    "        NavigateAction(target_locations=[place_stand.pose]).resolve().perform()\n",
    "\n",
    "        PlaceAction(cereal_desig, target_locations=[place_island.pose], arms=[pickup_arm]).resolve().perform()\n",
    "\n",
    "        ParkArmsActionPerformable(Arms.BOTH).perform()\n",
    "\n",
    "plan()\n",
    "\n",
    "# set description of what we are doing\n",
    "pycram.orm.base.ProcessMetaData().description = \"Tutorial for getting familiar with the ORM.\"\n",
    "task_tree = pycram.tasktree.task_tree\n",
    "print(anytree.RenderTree(task_tree))"
   ]
  },
  {
   "cell_type": "markdown",
   "metadata": {},
   "source": [
    "Next we serialize the task tree by recursively inserting from its root."
   ]
  },
  {
   "cell_type": "code",
   "execution_count": 4,
   "metadata": {
    "ExecuteTime": {
     "end_time": "2024-01-29T16:51:35.505074180Z",
     "start_time": "2024-01-29T16:51:35.307461245Z"
    }
   },
   "outputs": [
    {
     "name": "stderr",
     "output_type": "stream",
     "text": [
      "Inserting TaskTree into database: 100%|██████████| 20/20 [00:00<00:00, 727.06it/s]\n"
     ]
    },
    {
     "data": {
      "text/plain": [
       "TaskTreeNode(id=1, action_id=None, action=None, start_time=datetime.datetime(2024, 7, 2, 13, 17, 43, 157947), end_time=None, status=<TaskStatus.RUNNING: 1>, reason=None, parent_id=None, parent=None, process_metadata_id=1)"
      ]
     },
     "execution_count": 4,
     "metadata": {},
     "output_type": "execute_result"
    }
   ],
   "source": [
    "task_tree.root.insert(session)"
   ]
  },
  {
   "cell_type": "markdown",
   "metadata": {},
   "source": [
    "We can look at our experiment (Process)MetaData to get some context on the data we just created."
   ]
  },
  {
   "cell_type": "code",
   "execution_count": 5,
   "metadata": {
    "ExecuteTime": {
     "end_time": "2024-01-29T16:51:35.508649071Z",
     "start_time": "2024-01-29T16:51:35.506023628Z"
    }
   },
   "outputs": [
    {
     "name": "stdout",
     "output_type": "stream",
     "text": [
      "ProcessMetaData(id=1, created_at=datetime.datetime(2024, 7, 2, 11, 18, 27), created_by='jdech', description='Tutorial for getting familiar with the ORM.', pycram_version='7bcd68e456d856a51e62df5e830aab0d7113f2e7')\n"
     ]
    }
   ],
   "source": [
    "from sqlalchemy import select\n",
    "\n",
    "print(*session.scalars(select(pycram.orm.base.ProcessMetaData)).all())"
   ]
  },
  {
   "cell_type": "markdown",
   "metadata": {},
   "source": [
    "Lastly we can look at various table to see how the structures got logged.\n",
    "For example, we can get all the navigate actions that occurred."
   ]
  },
  {
   "cell_type": "code",
   "execution_count": 6,
   "metadata": {
    "ExecuteTime": {
     "end_time": "2024-01-29T16:51:35.520518056Z",
     "start_time": "2024-01-29T16:51:35.508477111Z"
    }
   },
   "outputs": [
    {
     "name": "stdout",
     "output_type": "stream",
     "text": [
      "NavigateAction(id=3, process_metadata_id=1, dtype='NavigateAction', robot_state_id=3, robot_state=RobotState(id=3, pose_to_init=False, torso_height=0.2, type=<ObjectType.ROBOT: 8>, pose_id=3, process_metadata_id=1), pose_to_init=False, pose_id=4)\n",
      "NavigateAction(id=12, process_metadata_id=1, dtype='NavigateAction', robot_state_id=6, robot_state=RobotState(id=6, pose_to_init=False, torso_height=0.2, type=<ObjectType.ROBOT: 8>, pose_id=12, process_metadata_id=1), pose_to_init=False, pose_id=13)\n"
     ]
    }
   ],
   "source": [
    "navigations = session.scalars(select(pycram.orm.action_designator.NavigateAction)).all()\n",
    "print(*navigations, sep=\"\\n\")"
   ]
  },
  {
   "cell_type": "markdown",
   "metadata": {},
   "source": [
    "Due to the inheritance mapped in the ORM package, we can also obtain all executed actions with just one query. "
   ]
  },
  {
   "cell_type": "code",
   "execution_count": 7,
   "metadata": {
    "ExecuteTime": {
     "end_time": "2024-01-29T16:51:35.560192686Z",
     "start_time": "2024-01-29T16:51:35.520628950Z"
    }
   },
   "outputs": [
    {
     "name": "stdout",
     "output_type": "stream",
     "text": [
      "ParkArmsAction(id=1, process_metadata_id=1, dtype='ParkArmsAction', robot_state_id=1, robot_state=RobotState(id=1, pose_to_init=False, torso_height=0.0, type=<ObjectType.ROBOT: 8>, pose_id=1, process_metadata_id=1), arm=<Arms.BOTH: 3>)\n",
      "MoveTorsoAction(id=2, process_metadata_id=1, dtype='MoveTorsoAction', robot_state_id=2, robot_state=RobotState(id=2, pose_to_init=False, torso_height=0.0, type=<ObjectType.ROBOT: 8>, pose_id=2, process_metadata_id=1), position=0.2)\n",
      "NavigateAction(id=3, process_metadata_id=1, dtype='NavigateAction', robot_state_id=3, robot_state=RobotState(id=3, pose_to_init=False, torso_height=0.2, type=<ObjectType.ROBOT: 8>, pose_id=3, process_metadata_id=1), pose_to_init=False, pose_id=4)\n",
      "PickUpAction(id=5, process_metadata_id=1, dtype='PickUpAction', robot_state_id=4, robot_state=RobotState(id=4, pose_to_init=False, torso_height=0.2, type=<ObjectType.ROBOT: 8>, pose_id=6, process_metadata_id=1), object_to_init=False, arm=<Arms.LEFT: 1>, grasp=<Grasp.FRONT: 0>, object_id=1)\n",
      "ParkArmsAction(id=11, process_metadata_id=1, dtype='ParkArmsAction', robot_state_id=5, robot_state=RobotState(id=5, pose_to_init=False, torso_height=0.2, type=<ObjectType.ROBOT: 8>, pose_id=11, process_metadata_id=1), arm=<Arms.BOTH: 3>)\n",
      "NavigateAction(id=12, process_metadata_id=1, dtype='NavigateAction', robot_state_id=6, robot_state=RobotState(id=6, pose_to_init=False, torso_height=0.2, type=<ObjectType.ROBOT: 8>, pose_id=12, process_metadata_id=1), pose_to_init=False, pose_id=13)\n",
      "PlaceAction(id=14, process_metadata_id=1, dtype='PlaceAction', robot_state_id=7, robot_state=RobotState(id=7, pose_to_init=False, torso_height=0.2, type=<ObjectType.ROBOT: 8>, pose_id=15, process_metadata_id=1), object_to_init=False, pose_to_init=False, arm=<Arms.LEFT: 1>, pose_id=17, object_id=2)\n",
      "ParkArmsAction(id=18, process_metadata_id=1, dtype='ParkArmsAction', robot_state_id=8, robot_state=RobotState(id=8, pose_to_init=False, torso_height=0.2, type=<ObjectType.ROBOT: 8>, pose_id=20, process_metadata_id=1), arm=<Arms.BOTH: 3>)\n"
     ]
    }
   ],
   "source": [
    "actions = session.scalars(select(pycram.orm.action_designator.Action)).all()\n",
    "print(*actions, sep=\"\\n\")"
   ]
  },
  {
   "cell_type": "markdown",
   "metadata": {},
   "source": [
    "Of course all relational algebra operators, such as filtering and joining also work in pycram.orm queries. Let's say we need all the poses of objects, that were picked up by a robot. Since we defined a relationship between the PickUpAction table and the Object table and between the Object table and the Pose table in the ORM class schema, we can just use the join operator without any further specification:"
   ]
  },
  {
   "cell_type": "code",
   "execution_count": 8,
   "metadata": {
    "ExecuteTime": {
     "end_time": "2024-01-29T16:51:35.561234983Z",
     "start_time": "2024-01-29T16:51:35.535162323Z"
    }
   },
   "outputs": [
    {
     "name": "stdout",
     "output_type": "stream",
     "text": [
      "Pose(id=7, orientation_to_init=False, position_to_init=False, time=datetime.datetime(2024, 7, 2, 11, 18, 21, 670262), frame='map', position_id=7, orientation_id=7, process_metadata_id=1)\n"
     ]
    }
   ],
   "source": [
    "object_actions = (session.scalars(select(pycram.orm.base.Pose)\n",
    "                  .join(pycram.orm.action_designator.PickUpAction.object)\n",
    "                  .join(pycram.orm.object_designator.Object.pose))\n",
    "                  .all())\n",
    "print(*object_actions, sep=\"\\n\")\n"
   ]
  },
  {
   "cell_type": "markdown",
   "metadata": {},
   "source": [
    "Did you notice, that for the joins we did not join the tables together in a typical sql kind of way, but rather used the relationships defined in the ORM classes and wrote joins like PickUpAction.object or Object.pose? This is because the ORM package automatically creates the joins for us, so we only have to join on the attributes that hold the relationship. This is a huge advantage over writing sql queries by hand, since we do not have to worry about the join conditions. \n",
    "This is a strong tool, but it is crucial to use it properly. Very important to note: The order of the joins matters! For instance, if we joined the Pose table with the Object table first, and placed the join between the PickUpAction table and the Object table second, sqlalchemy would have selected the Pose not from the join between all three tables, but rather from a join between the Pose and the Object table + from a join between the PickUpAction table and the Object table. These mistakes can lead to wrong results or even to errors (the above-mentioned example would actually lead to an error due to the Object table being accessed twice in two separate joins in the same query and therefore the column names of the Object tables would have been ambiguous and could not be used by sqlalchemy to join).\n",
    "\n",
    "Make sure to check out the other examples of ORM querying."
   ]
  },
  {
   "cell_type": "markdown",
   "metadata": {},
   "source": [
    "If we want to filter for all successful tasks we can just add the filter operator:"
   ]
  },
  {
   "cell_type": "code",
   "execution_count": 13,
   "metadata": {
    "ExecuteTime": {
     "end_time": "2024-01-29T16:51:35.600701170Z",
     "start_time": "2024-01-29T16:51:35.539887927Z"
    }
   },
   "outputs": [
    {
     "name": "stdout",
     "output_type": "stream",
     "text": [
      "TaskTreeNode(id=2, action_id=None, action=None, start_time=datetime.datetime(2024, 7, 2, 13, 18, 13, 429749), end_time=datetime.datetime(2024, 7, 2, 13, 18, 23, 200265), status=<TaskStatus.SUCCEEDED: 2>, reason=None, parent_id=1, parent=TaskTreeNode(id=1, action_id=None, action=None, start_time=datetime.datetime(2024, 7, 2, 13, 17, 43, 157947), end_time=None, status=<TaskStatus.RUNNING: 1>, reason=None, parent_id=None, parent=None, process_metadata_id=1), process_metadata_id=1)\n",
      "TaskTreeNode(id=3, action_id=1, action=ParkArmsAction(id=1, process_metadata_id=1, dtype='ParkArmsAction', robot_state_id=1, robot_state=RobotState(id=1, pose_to_init=False, torso_height=0.0, type=<ObjectType.ROBOT: 8>, pose_id=1, process_metadata_id=1), arm=<Arms.BOTH: 3>), start_time=datetime.datetime(2024, 7, 2, 13, 18, 13, 429791), end_time=datetime.datetime(2024, 7, 2, 13, 18, 13, 938565), status=<TaskStatus.SUCCEEDED: 2>, reason=None, parent_id=2, parent=TaskTreeNode(id=2, action_id=None, action=None, start_time=datetime.datetime(2024, 7, 2, 13, 18, 13, 429749), end_time=datetime.datetime(2024, 7, 2, 13, 18, 23, 200265), status=<TaskStatus.SUCCEEDED: 2>, reason=None, parent_id=1, parent=TaskTreeNode(id=1, action_id=None, action=None, start_time=datetime.datetime(2024, 7, 2, 13, 17, 43, 157947), end_time=None, status=<TaskStatus.RUNNING: 1>, reason=None, parent_id=None, parent=None, process_metadata_id=1), process_metadata_id=1), process_metadata_id=1)\n",
      "TaskTreeNode(id=4, action_id=2, action=MoveTorsoAction(id=2, process_metadata_id=1, dtype='MoveTorsoAction', robot_state_id=2, robot_state=RobotState(id=2, pose_to_init=False, torso_height=0.0, type=<ObjectType.ROBOT: 8>, pose_id=2, process_metadata_id=1), position=0.2), start_time=datetime.datetime(2024, 7, 2, 13, 18, 14, 612725), end_time=datetime.datetime(2024, 7, 2, 13, 18, 15, 116136), status=<TaskStatus.SUCCEEDED: 2>, reason=None, parent_id=2, parent=TaskTreeNode(id=2, action_id=None, action=None, start_time=datetime.datetime(2024, 7, 2, 13, 18, 13, 429749), end_time=datetime.datetime(2024, 7, 2, 13, 18, 23, 200265), status=<TaskStatus.SUCCEEDED: 2>, reason=None, parent_id=1, parent=TaskTreeNode(id=1, action_id=None, action=None, start_time=datetime.datetime(2024, 7, 2, 13, 17, 43, 157947), end_time=None, status=<TaskStatus.RUNNING: 1>, reason=None, parent_id=None, parent=None, process_metadata_id=1), process_metadata_id=1), process_metadata_id=1)\n",
      "TaskTreeNode(id=5, action_id=3, action=NavigateAction(id=3, process_metadata_id=1, dtype='NavigateAction', robot_state_id=3, robot_state=RobotState(id=3, pose_to_init=False, torso_height=0.2, type=<ObjectType.ROBOT: 8>, pose_id=3, process_metadata_id=1), pose_to_init=False, pose_id=4), start_time=datetime.datetime(2024, 7, 2, 13, 18, 15, 512508), end_time=datetime.datetime(2024, 7, 2, 13, 18, 16, 18303), status=<TaskStatus.SUCCEEDED: 2>, reason=None, parent_id=2, parent=TaskTreeNode(id=2, action_id=None, action=None, start_time=datetime.datetime(2024, 7, 2, 13, 18, 13, 429749), end_time=datetime.datetime(2024, 7, 2, 13, 18, 23, 200265), status=<TaskStatus.SUCCEEDED: 2>, reason=None, parent_id=1, parent=TaskTreeNode(id=1, action_id=None, action=None, start_time=datetime.datetime(2024, 7, 2, 13, 17, 43, 157947), end_time=None, status=<TaskStatus.RUNNING: 1>, reason=None, parent_id=None, parent=None, process_metadata_id=1), process_metadata_id=1), process_metadata_id=1)\n",
      "TaskTreeNode(id=6, action_id=5, action=PickUpAction(id=5, process_metadata_id=1, dtype='PickUpAction', robot_state_id=4, robot_state=RobotState(id=4, pose_to_init=False, torso_height=0.2, type=<ObjectType.ROBOT: 8>, pose_id=6, process_metadata_id=1), object_to_init=False, arm=<Arms.LEFT: 1>, grasp=<Grasp.FRONT: 0>, object_id=1), start_time=datetime.datetime(2024, 7, 2, 13, 18, 16, 19500), end_time=datetime.datetime(2024, 7, 2, 13, 18, 19, 495448), status=<TaskStatus.SUCCEEDED: 2>, reason=None, parent_id=2, parent=TaskTreeNode(id=2, action_id=None, action=None, start_time=datetime.datetime(2024, 7, 2, 13, 18, 13, 429749), end_time=datetime.datetime(2024, 7, 2, 13, 18, 23, 200265), status=<TaskStatus.SUCCEEDED: 2>, reason=None, parent_id=1, parent=TaskTreeNode(id=1, action_id=None, action=None, start_time=datetime.datetime(2024, 7, 2, 13, 17, 43, 157947), end_time=None, status=<TaskStatus.RUNNING: 1>, reason=None, parent_id=None, parent=None, process_metadata_id=1), process_metadata_id=1), process_metadata_id=1)\n",
      "TaskTreeNode(id=7, action_id=11, action=ParkArmsAction(id=11, process_metadata_id=1, dtype='ParkArmsAction', robot_state_id=5, robot_state=RobotState(id=5, pose_to_init=False, torso_height=0.2, type=<ObjectType.ROBOT: 8>, pose_id=11, process_metadata_id=1), arm=<Arms.BOTH: 3>), start_time=datetime.datetime(2024, 7, 2, 13, 18, 19, 511201), end_time=datetime.datetime(2024, 7, 2, 13, 18, 20, 21805), status=<TaskStatus.SUCCEEDED: 2>, reason=None, parent_id=2, parent=TaskTreeNode(id=2, action_id=None, action=None, start_time=datetime.datetime(2024, 7, 2, 13, 18, 13, 429749), end_time=datetime.datetime(2024, 7, 2, 13, 18, 23, 200265), status=<TaskStatus.SUCCEEDED: 2>, reason=None, parent_id=1, parent=TaskTreeNode(id=1, action_id=None, action=None, start_time=datetime.datetime(2024, 7, 2, 13, 17, 43, 157947), end_time=None, status=<TaskStatus.RUNNING: 1>, reason=None, parent_id=None, parent=None, process_metadata_id=1), process_metadata_id=1), process_metadata_id=1)\n",
      "TaskTreeNode(id=8, action_id=12, action=NavigateAction(id=12, process_metadata_id=1, dtype='NavigateAction', robot_state_id=6, robot_state=RobotState(id=6, pose_to_init=False, torso_height=0.2, type=<ObjectType.ROBOT: 8>, pose_id=12, process_metadata_id=1), pose_to_init=False, pose_id=13), start_time=datetime.datetime(2024, 7, 2, 13, 18, 20, 619721), end_time=datetime.datetime(2024, 7, 2, 13, 18, 21, 128413), status=<TaskStatus.SUCCEEDED: 2>, reason=None, parent_id=2, parent=TaskTreeNode(id=2, action_id=None, action=None, start_time=datetime.datetime(2024, 7, 2, 13, 18, 13, 429749), end_time=datetime.datetime(2024, 7, 2, 13, 18, 23, 200265), status=<TaskStatus.SUCCEEDED: 2>, reason=None, parent_id=1, parent=TaskTreeNode(id=1, action_id=None, action=None, start_time=datetime.datetime(2024, 7, 2, 13, 17, 43, 157947), end_time=None, status=<TaskStatus.RUNNING: 1>, reason=None, parent_id=None, parent=None, process_metadata_id=1), process_metadata_id=1), process_metadata_id=1)\n",
      "TaskTreeNode(id=9, action_id=14, action=PlaceAction(id=14, process_metadata_id=1, dtype='PlaceAction', robot_state_id=7, robot_state=RobotState(id=7, pose_to_init=False, torso_height=0.2, type=<ObjectType.ROBOT: 8>, pose_id=15, process_metadata_id=1), object_to_init=False, pose_to_init=False, arm=<Arms.LEFT: 1>, pose_id=17, object_id=2), start_time=datetime.datetime(2024, 7, 2, 13, 18, 21, 128994), end_time=datetime.datetime(2024, 7, 2, 13, 18, 22, 694118), status=<TaskStatus.SUCCEEDED: 2>, reason=None, parent_id=2, parent=TaskTreeNode(id=2, action_id=None, action=None, start_time=datetime.datetime(2024, 7, 2, 13, 18, 13, 429749), end_time=datetime.datetime(2024, 7, 2, 13, 18, 23, 200265), status=<TaskStatus.SUCCEEDED: 2>, reason=None, parent_id=1, parent=TaskTreeNode(id=1, action_id=None, action=None, start_time=datetime.datetime(2024, 7, 2, 13, 17, 43, 157947), end_time=None, status=<TaskStatus.RUNNING: 1>, reason=None, parent_id=None, parent=None, process_metadata_id=1), process_metadata_id=1), process_metadata_id=1)\n",
      "TaskTreeNode(id=10, action_id=18, action=ParkArmsAction(id=18, process_metadata_id=1, dtype='ParkArmsAction', robot_state_id=8, robot_state=RobotState(id=8, pose_to_init=False, torso_height=0.2, type=<ObjectType.ROBOT: 8>, pose_id=20, process_metadata_id=1), arm=<Arms.BOTH: 3>), start_time=datetime.datetime(2024, 7, 2, 13, 18, 22, 694186), end_time=datetime.datetime(2024, 7, 2, 13, 18, 23, 200254), status=<TaskStatus.SUCCEEDED: 2>, reason=None, parent_id=2, parent=TaskTreeNode(id=2, action_id=None, action=None, start_time=datetime.datetime(2024, 7, 2, 13, 18, 13, 429749), end_time=datetime.datetime(2024, 7, 2, 13, 18, 23, 200265), status=<TaskStatus.SUCCEEDED: 2>, reason=None, parent_id=1, parent=TaskTreeNode(id=1, action_id=None, action=None, start_time=datetime.datetime(2024, 7, 2, 13, 17, 43, 157947), end_time=None, status=<TaskStatus.RUNNING: 1>, reason=None, parent_id=None, parent=None, process_metadata_id=1), process_metadata_id=1), process_metadata_id=1)\n",
      "TaskTreeNode(id=11, action_id=4, action=MoveMotion(id=4, process_metadata_id=1, dtype='MoveMotion', pose_to_init=False, pose_id=5), start_time=datetime.datetime(2024, 7, 2, 13, 18, 15, 512553), end_time=datetime.datetime(2024, 7, 2, 13, 18, 16, 18296), status=<TaskStatus.SUCCEEDED: 2>, reason=None, parent_id=5, parent=TaskTreeNode(id=5, action_id=3, action=NavigateAction(id=3, process_metadata_id=1, dtype='NavigateAction', robot_state_id=3, robot_state=RobotState(id=3, pose_to_init=False, torso_height=0.2, type=<ObjectType.ROBOT: 8>, pose_id=3, process_metadata_id=1), pose_to_init=False, pose_id=4), start_time=datetime.datetime(2024, 7, 2, 13, 18, 15, 512508), end_time=datetime.datetime(2024, 7, 2, 13, 18, 16, 18303), status=<TaskStatus.SUCCEEDED: 2>, reason=None, parent_id=2, parent=TaskTreeNode(id=2, action_id=None, action=None, start_time=datetime.datetime(2024, 7, 2, 13, 18, 13, 429749), end_time=datetime.datetime(2024, 7, 2, 13, 18, 23, 200265), status=<TaskStatus.SUCCEEDED: 2>, reason=None, parent_id=1, parent=TaskTreeNode(id=1, action_id=None, action=None, start_time=datetime.datetime(2024, 7, 2, 13, 17, 43, 157947), end_time=None, status=<TaskStatus.RUNNING: 1>, reason=None, parent_id=None, parent=None, process_metadata_id=1), process_metadata_id=1), process_metadata_id=1), process_metadata_id=1)\n",
      "TaskTreeNode(id=12, action_id=6, action=MoveTCPMotion(id=6, process_metadata_id=1, dtype='MoveTCPMotion', pose_to_init=False, arm=<Arms.LEFT: 1>, allow_gripper_collision=True, pose_id=8), start_time=datetime.datetime(2024, 7, 2, 13, 18, 16, 229557), end_time=datetime.datetime(2024, 7, 2, 13, 18, 16, 749725), status=<TaskStatus.SUCCEEDED: 2>, reason=None, parent_id=6, parent=TaskTreeNode(id=6, action_id=5, action=PickUpAction(id=5, process_metadata_id=1, dtype='PickUpAction', robot_state_id=4, robot_state=RobotState(id=4, pose_to_init=False, torso_height=0.2, type=<ObjectType.ROBOT: 8>, pose_id=6, process_metadata_id=1), object_to_init=False, arm=<Arms.LEFT: 1>, grasp=<Grasp.FRONT: 0>, object_id=1), start_time=datetime.datetime(2024, 7, 2, 13, 18, 16, 19500), end_time=datetime.datetime(2024, 7, 2, 13, 18, 19, 495448), status=<TaskStatus.SUCCEEDED: 2>, reason=None, parent_id=2, parent=TaskTreeNode(id=2, action_id=None, action=None, start_time=datetime.datetime(2024, 7, 2, 13, 18, 13, 429749), end_time=datetime.datetime(2024, 7, 2, 13, 18, 23, 200265), status=<TaskStatus.SUCCEEDED: 2>, reason=None, parent_id=1, parent=TaskTreeNode(id=1, action_id=None, action=None, start_time=datetime.datetime(2024, 7, 2, 13, 17, 43, 157947), end_time=None, status=<TaskStatus.RUNNING: 1>, reason=None, parent_id=None, parent=None, process_metadata_id=1), process_metadata_id=1), process_metadata_id=1), process_metadata_id=1)\n",
      "TaskTreeNode(id=13, action_id=7, action=MoveGripperMotion(id=7, process_metadata_id=1, dtype='MoveGripperMotion', motion=<GripperState.OPEN: 1>, gripper=<Arms.LEFT: 1>, allow_gripper_collision=None), start_time=datetime.datetime(2024, 7, 2, 13, 18, 16, 749842), end_time=datetime.datetime(2024, 7, 2, 13, 18, 17, 255565), status=<TaskStatus.SUCCEEDED: 2>, reason=None, parent_id=6, parent=TaskTreeNode(id=6, action_id=5, action=PickUpAction(id=5, process_metadata_id=1, dtype='PickUpAction', robot_state_id=4, robot_state=RobotState(id=4, pose_to_init=False, torso_height=0.2, type=<ObjectType.ROBOT: 8>, pose_id=6, process_metadata_id=1), object_to_init=False, arm=<Arms.LEFT: 1>, grasp=<Grasp.FRONT: 0>, object_id=1), start_time=datetime.datetime(2024, 7, 2, 13, 18, 16, 19500), end_time=datetime.datetime(2024, 7, 2, 13, 18, 19, 495448), status=<TaskStatus.SUCCEEDED: 2>, reason=None, parent_id=2, parent=TaskTreeNode(id=2, action_id=None, action=None, start_time=datetime.datetime(2024, 7, 2, 13, 18, 13, 429749), end_time=datetime.datetime(2024, 7, 2, 13, 18, 23, 200265), status=<TaskStatus.SUCCEEDED: 2>, reason=None, parent_id=1, parent=TaskTreeNode(id=1, action_id=None, action=None, start_time=datetime.datetime(2024, 7, 2, 13, 17, 43, 157947), end_time=None, status=<TaskStatus.RUNNING: 1>, reason=None, parent_id=None, parent=None, process_metadata_id=1), process_metadata_id=1), process_metadata_id=1), process_metadata_id=1)\n",
      "TaskTreeNode(id=14, action_id=8, action=MoveTCPMotion(id=8, process_metadata_id=1, dtype='MoveTCPMotion', pose_to_init=False, arm=<Arms.LEFT: 1>, allow_gripper_collision=True, pose_id=9), start_time=datetime.datetime(2024, 7, 2, 13, 18, 17, 396402), end_time=datetime.datetime(2024, 7, 2, 13, 18, 17, 919758), status=<TaskStatus.SUCCEEDED: 2>, reason=None, parent_id=6, parent=TaskTreeNode(id=6, action_id=5, action=PickUpAction(id=5, process_metadata_id=1, dtype='PickUpAction', robot_state_id=4, robot_state=RobotState(id=4, pose_to_init=False, torso_height=0.2, type=<ObjectType.ROBOT: 8>, pose_id=6, process_metadata_id=1), object_to_init=False, arm=<Arms.LEFT: 1>, grasp=<Grasp.FRONT: 0>, object_id=1), start_time=datetime.datetime(2024, 7, 2, 13, 18, 16, 19500), end_time=datetime.datetime(2024, 7, 2, 13, 18, 19, 495448), status=<TaskStatus.SUCCEEDED: 2>, reason=None, parent_id=2, parent=TaskTreeNode(id=2, action_id=None, action=None, start_time=datetime.datetime(2024, 7, 2, 13, 18, 13, 429749), end_time=datetime.datetime(2024, 7, 2, 13, 18, 23, 200265), status=<TaskStatus.SUCCEEDED: 2>, reason=None, parent_id=1, parent=TaskTreeNode(id=1, action_id=None, action=None, start_time=datetime.datetime(2024, 7, 2, 13, 17, 43, 157947), end_time=None, status=<TaskStatus.RUNNING: 1>, reason=None, parent_id=None, parent=None, process_metadata_id=1), process_metadata_id=1), process_metadata_id=1), process_metadata_id=1)\n",
      "TaskTreeNode(id=15, action_id=9, action=MoveGripperMotion(id=9, process_metadata_id=1, dtype='MoveGripperMotion', motion=<GripperState.CLOSE: 2>, gripper=<Arms.LEFT: 1>, allow_gripper_collision=None), start_time=datetime.datetime(2024, 7, 2, 13, 18, 17, 919882), end_time=datetime.datetime(2024, 7, 2, 13, 18, 18, 425650), status=<TaskStatus.SUCCEEDED: 2>, reason=None, parent_id=6, parent=TaskTreeNode(id=6, action_id=5, action=PickUpAction(id=5, process_metadata_id=1, dtype='PickUpAction', robot_state_id=4, robot_state=RobotState(id=4, pose_to_init=False, torso_height=0.2, type=<ObjectType.ROBOT: 8>, pose_id=6, process_metadata_id=1), object_to_init=False, arm=<Arms.LEFT: 1>, grasp=<Grasp.FRONT: 0>, object_id=1), start_time=datetime.datetime(2024, 7, 2, 13, 18, 16, 19500), end_time=datetime.datetime(2024, 7, 2, 13, 18, 19, 495448), status=<TaskStatus.SUCCEEDED: 2>, reason=None, parent_id=2, parent=TaskTreeNode(id=2, action_id=None, action=None, start_time=datetime.datetime(2024, 7, 2, 13, 18, 13, 429749), end_time=datetime.datetime(2024, 7, 2, 13, 18, 23, 200265), status=<TaskStatus.SUCCEEDED: 2>, reason=None, parent_id=1, parent=TaskTreeNode(id=1, action_id=None, action=None, start_time=datetime.datetime(2024, 7, 2, 13, 17, 43, 157947), end_time=None, status=<TaskStatus.RUNNING: 1>, reason=None, parent_id=None, parent=None, process_metadata_id=1), process_metadata_id=1), process_metadata_id=1), process_metadata_id=1)\n",
      "TaskTreeNode(id=16, action_id=10, action=MoveTCPMotion(id=10, process_metadata_id=1, dtype='MoveTCPMotion', pose_to_init=False, arm=<Arms.LEFT: 1>, allow_gripper_collision=True, pose_id=10), start_time=datetime.datetime(2024, 7, 2, 13, 18, 18, 582197), end_time=datetime.datetime(2024, 7, 2, 13, 18, 19, 181567), status=<TaskStatus.SUCCEEDED: 2>, reason=None, parent_id=6, parent=TaskTreeNode(id=6, action_id=5, action=PickUpAction(id=5, process_metadata_id=1, dtype='PickUpAction', robot_state_id=4, robot_state=RobotState(id=4, pose_to_init=False, torso_height=0.2, type=<ObjectType.ROBOT: 8>, pose_id=6, process_metadata_id=1), object_to_init=False, arm=<Arms.LEFT: 1>, grasp=<Grasp.FRONT: 0>, object_id=1), start_time=datetime.datetime(2024, 7, 2, 13, 18, 16, 19500), end_time=datetime.datetime(2024, 7, 2, 13, 18, 19, 495448), status=<TaskStatus.SUCCEEDED: 2>, reason=None, parent_id=2, parent=TaskTreeNode(id=2, action_id=None, action=None, start_time=datetime.datetime(2024, 7, 2, 13, 18, 13, 429749), end_time=datetime.datetime(2024, 7, 2, 13, 18, 23, 200265), status=<TaskStatus.SUCCEEDED: 2>, reason=None, parent_id=1, parent=TaskTreeNode(id=1, action_id=None, action=None, start_time=datetime.datetime(2024, 7, 2, 13, 17, 43, 157947), end_time=None, status=<TaskStatus.RUNNING: 1>, reason=None, parent_id=None, parent=None, process_metadata_id=1), process_metadata_id=1), process_metadata_id=1), process_metadata_id=1)\n",
      "TaskTreeNode(id=17, action_id=13, action=MoveMotion(id=13, process_metadata_id=1, dtype='MoveMotion', pose_to_init=False, pose_id=14), start_time=datetime.datetime(2024, 7, 2, 13, 18, 20, 619782), end_time=datetime.datetime(2024, 7, 2, 13, 18, 21, 128406), status=<TaskStatus.SUCCEEDED: 2>, reason=None, parent_id=8, parent=TaskTreeNode(id=8, action_id=12, action=NavigateAction(id=12, process_metadata_id=1, dtype='NavigateAction', robot_state_id=6, robot_state=RobotState(id=6, pose_to_init=False, torso_height=0.2, type=<ObjectType.ROBOT: 8>, pose_id=12, process_metadata_id=1), pose_to_init=False, pose_id=13), start_time=datetime.datetime(2024, 7, 2, 13, 18, 20, 619721), end_time=datetime.datetime(2024, 7, 2, 13, 18, 21, 128413), status=<TaskStatus.SUCCEEDED: 2>, reason=None, parent_id=2, parent=TaskTreeNode(id=2, action_id=None, action=None, start_time=datetime.datetime(2024, 7, 2, 13, 18, 13, 429749), end_time=datetime.datetime(2024, 7, 2, 13, 18, 23, 200265), status=<TaskStatus.SUCCEEDED: 2>, reason=None, parent_id=1, parent=TaskTreeNode(id=1, action_id=None, action=None, start_time=datetime.datetime(2024, 7, 2, 13, 17, 43, 157947), end_time=None, status=<TaskStatus.RUNNING: 1>, reason=None, parent_id=None, parent=None, process_metadata_id=1), process_metadata_id=1), process_metadata_id=1), process_metadata_id=1)\n",
      "TaskTreeNode(id=18, action_id=15, action=MoveTCPMotion(id=15, process_metadata_id=1, dtype='MoveTCPMotion', pose_to_init=False, arm=<Arms.LEFT: 1>, allow_gripper_collision=None, pose_id=18), start_time=datetime.datetime(2024, 7, 2, 13, 18, 21, 131634), end_time=datetime.datetime(2024, 7, 2, 13, 18, 21, 661035), status=<TaskStatus.SUCCEEDED: 2>, reason=None, parent_id=9, parent=TaskTreeNode(id=9, action_id=14, action=PlaceAction(id=14, process_metadata_id=1, dtype='PlaceAction', robot_state_id=7, robot_state=RobotState(id=7, pose_to_init=False, torso_height=0.2, type=<ObjectType.ROBOT: 8>, pose_id=15, process_metadata_id=1), object_to_init=False, pose_to_init=False, arm=<Arms.LEFT: 1>, pose_id=17, object_id=2), start_time=datetime.datetime(2024, 7, 2, 13, 18, 21, 128994), end_time=datetime.datetime(2024, 7, 2, 13, 18, 22, 694118), status=<TaskStatus.SUCCEEDED: 2>, reason=None, parent_id=2, parent=TaskTreeNode(id=2, action_id=None, action=None, start_time=datetime.datetime(2024, 7, 2, 13, 18, 13, 429749), end_time=datetime.datetime(2024, 7, 2, 13, 18, 23, 200265), status=<TaskStatus.SUCCEEDED: 2>, reason=None, parent_id=1, parent=TaskTreeNode(id=1, action_id=None, action=None, start_time=datetime.datetime(2024, 7, 2, 13, 17, 43, 157947), end_time=None, status=<TaskStatus.RUNNING: 1>, reason=None, parent_id=None, parent=None, process_metadata_id=1), process_metadata_id=1), process_metadata_id=1), process_metadata_id=1)\n",
      "TaskTreeNode(id=19, action_id=16, action=MoveGripperMotion(id=16, process_metadata_id=1, dtype='MoveGripperMotion', motion=<GripperState.OPEN: 1>, gripper=<Arms.LEFT: 1>, allow_gripper_collision=None), start_time=datetime.datetime(2024, 7, 2, 13, 18, 21, 661137), end_time=datetime.datetime(2024, 7, 2, 13, 18, 22, 170556), status=<TaskStatus.SUCCEEDED: 2>, reason=None, parent_id=9, parent=TaskTreeNode(id=9, action_id=14, action=PlaceAction(id=14, process_metadata_id=1, dtype='PlaceAction', robot_state_id=7, robot_state=RobotState(id=7, pose_to_init=False, torso_height=0.2, type=<ObjectType.ROBOT: 8>, pose_id=15, process_metadata_id=1), object_to_init=False, pose_to_init=False, arm=<Arms.LEFT: 1>, pose_id=17, object_id=2), start_time=datetime.datetime(2024, 7, 2, 13, 18, 21, 128994), end_time=datetime.datetime(2024, 7, 2, 13, 18, 22, 694118), status=<TaskStatus.SUCCEEDED: 2>, reason=None, parent_id=2, parent=TaskTreeNode(id=2, action_id=None, action=None, start_time=datetime.datetime(2024, 7, 2, 13, 18, 13, 429749), end_time=datetime.datetime(2024, 7, 2, 13, 18, 23, 200265), status=<TaskStatus.SUCCEEDED: 2>, reason=None, parent_id=1, parent=TaskTreeNode(id=1, action_id=None, action=None, start_time=datetime.datetime(2024, 7, 2, 13, 17, 43, 157947), end_time=None, status=<TaskStatus.RUNNING: 1>, reason=None, parent_id=None, parent=None, process_metadata_id=1), process_metadata_id=1), process_metadata_id=1), process_metadata_id=1)\n",
      "TaskTreeNode(id=20, action_id=17, action=MoveTCPMotion(id=17, process_metadata_id=1, dtype='MoveTCPMotion', pose_to_init=False, arm=<Arms.LEFT: 1>, allow_gripper_collision=None, pose_id=19), start_time=datetime.datetime(2024, 7, 2, 13, 18, 22, 172993), end_time=datetime.datetime(2024, 7, 2, 13, 18, 22, 694110), status=<TaskStatus.SUCCEEDED: 2>, reason=None, parent_id=9, parent=TaskTreeNode(id=9, action_id=14, action=PlaceAction(id=14, process_metadata_id=1, dtype='PlaceAction', robot_state_id=7, robot_state=RobotState(id=7, pose_to_init=False, torso_height=0.2, type=<ObjectType.ROBOT: 8>, pose_id=15, process_metadata_id=1), object_to_init=False, pose_to_init=False, arm=<Arms.LEFT: 1>, pose_id=17, object_id=2), start_time=datetime.datetime(2024, 7, 2, 13, 18, 21, 128994), end_time=datetime.datetime(2024, 7, 2, 13, 18, 22, 694118), status=<TaskStatus.SUCCEEDED: 2>, reason=None, parent_id=2, parent=TaskTreeNode(id=2, action_id=None, action=None, start_time=datetime.datetime(2024, 7, 2, 13, 18, 13, 429749), end_time=datetime.datetime(2024, 7, 2, 13, 18, 23, 200265), status=<TaskStatus.SUCCEEDED: 2>, reason=None, parent_id=1, parent=TaskTreeNode(id=1, action_id=None, action=None, start_time=datetime.datetime(2024, 7, 2, 13, 17, 43, 157947), end_time=None, status=<TaskStatus.RUNNING: 1>, reason=None, parent_id=None, parent=None, process_metadata_id=1), process_metadata_id=1), process_metadata_id=1), process_metadata_id=1)\n"
     ]
    }
   ],
   "source": [
    "from pycram.orm.tasktree import TaskTreeNode\n",
    "\n",
    "successful_tasks = session.scalars(select(TaskTreeNode).where(TaskTreeNode.status == \"SUCCEEDED\"))\n",
    "print(*successful_tasks, sep=\"\\n\")"
   ]
  },
  {
   "cell_type": "markdown",
   "metadata": {},
   "source": [
    "As expected all but the root node succeeded, since the root node is still running.\n",
    "\n",
    "Writing an extension to the ORM package is also done with ease. We need to create a new ActionDesignator class and its ORM equivalent, where we define our new table. Let's say we want to log all the things the robot says. We will create a new ActionDesignator class called Saying and its ORM equivalent called ORMSaying. "
   ]
  },
  {
   "cell_type": "code",
   "execution_count": 14,
   "metadata": {
    "ExecuteTime": {
     "end_time": "2024-01-29T16:51:35.601121928Z",
     "start_time": "2024-01-29T16:51:35.600085428Z"
    }
   },
   "outputs": [],
   "source": [
    "from sqlalchemy.orm import Mapped, mapped_column, Session\n",
    "from pycram.orm.action_designator import Action\n",
    "from dataclasses import dataclass\n",
    "\n",
    "\n",
    "# define ORM class from pattern in every pycram.orm class\n",
    "class ORMSaying(Action):\n",
    "\n",
    "    id: Mapped[int] = mapped_column(sqlalchemy.ForeignKey(f'{Action.__tablename__}.id'), primary_key=True, init=False)\n",
    "    # since we do not want to add any custom specifications to our column, we don't even need to define mapped_column, sqlalchemy does this internally.\n",
    "    text: Mapped[str] \n",
    "\n",
    "# define brand new action designator\n",
    "\n",
    "@dataclass \n",
    "class SayingActionPerformable(ActionDesignatorDescription.Action):\n",
    "    \n",
    "    text: str\n",
    "        \n",
    "    @with_tree\n",
    "    def perform(self) -> None:\n",
    "        print(self.text)\n",
    "\n",
    "    def to_sql(self) -> ORMSaying:\n",
    "        return ORMSaying(self.text)\n",
    "\n",
    "    def insert(self, session: Session, *args, **kwargs) -> ORMSaying:\n",
    "        action = super().insert(session)\n",
    "        session.add(action)\n",
    "        session.commit()\n",
    "        return action\n"
   ]
  },
  {
   "cell_type": "markdown",
   "metadata": {},
   "source": [
    "Now we got our new ActionDesignator called Saying and its ORM version. Since this class got created after all other classes got inserted into the database (in the beginning of the notebook) we have to insert it manually. "
   ]
  },
  {
   "cell_type": "code",
   "execution_count": 15,
   "metadata": {
    "ExecuteTime": {
     "end_time": "2024-01-29T16:51:35.601417935Z",
     "start_time": "2024-01-29T16:51:35.600240790Z"
    }
   },
   "outputs": [],
   "source": [
    "ORMSaying.metadata.create_all(bind=engine)"
   ]
  },
  {
   "cell_type": "markdown",
   "metadata": {},
   "source": [
    "Now we can create and insert a Saying action. Since this is the last part where we interact with the BulletWorld, we can also close it."
   ]
  },
  {
   "cell_type": "code",
   "execution_count": 16,
   "metadata": {
    "ExecuteTime": {
     "end_time": "2024-01-29T16:51:36.020873055Z",
     "start_time": "2024-01-29T16:51:35.600296911Z"
    }
   },
   "outputs": [
    {
     "name": "stdout",
     "output_type": "stream",
     "text": [
      "Patchie, Patchie; Where is my Patchie?\n"
     ]
    },
    {
     "name": "stderr",
     "output_type": "stream",
     "text": [
      "Inserting TaskTree into database: 100%|██████████| 21/21 [00:00<00:00, 954.29it/s]\n"
     ]
    }
   ],
   "source": [
    "# create a saying action and insert it\n",
    "SayingActionPerformable(\"Patchie, Patchie; Where is my Patchie?\").perform()\n",
    "pycram.tasktree.task_tree.root.insert(session)\n",
    "session.commit()\n",
    "\n",
    "world.exit()"
   ]
  },
  {
   "cell_type": "markdown",
   "metadata": {},
   "source": [
    "It is notable that committing the object to the session fills its primary key. Hence, there is no worries about assigning unique IDs manually.\n",
    "Finally, we can double-check that our object exists in the database."
   ]
  },
  {
   "cell_type": "code",
   "execution_count": 17,
   "metadata": {
    "ExecuteTime": {
     "end_time": "2024-01-29T16:52:32.021378099Z",
     "start_time": "2024-01-29T16:52:31.976674160Z"
    }
   },
   "outputs": [
    {
     "data": {
      "text/plain": [
       "[ORMSaying(id=37, process_metadata_id=1, dtype='ORMSaying', robot_state_id=17, robot_state=RobotState(id=17, pose_to_init=False, torso_height=0.2, type=<ObjectType.ROBOT: 8>, pose_id=41, process_metadata_id=1), text='Patchie, Patchie; Where is my Patchie?')]"
      ]
     },
     "execution_count": 17,
     "metadata": {},
     "output_type": "execute_result"
    }
   ],
   "source": [
    "session.scalars(select(ORMSaying)).all()"
   ]
  }
 ],
 "metadata": {
  "kernelspec": {
   "display_name": "Python 3",
   "language": "python",
   "name": "python3"
  },
  "language_info": {
   "codemirror_mode": {
    "name": "ipython",
    "version": 3
   },
   "file_extension": ".py",
   "mimetype": "text/x-python",
   "name": "python",
   "nbconvert_exporter": "python",
   "pygments_lexer": "ipython3",
   "version": "3.8.10"
  }
 },
 "nbformat": 4,
 "nbformat_minor": 1
}
