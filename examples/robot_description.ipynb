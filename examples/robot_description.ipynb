{
 "cells": [
  {
   "cell_type": "markdown",
   "id": "b2098e0b",
   "metadata": {},
   "source": [
    "# Robot Description\n",
    "The robot description contains semantic information about the robot which can not be extracted from the URDF in a general way. This inludes kinematic chains, end-effectors, cameras and their parameter, etc. \n",
    "\n",
    "In genral a Robot Description consists a number of different descriptions, these are: \n",
    "  * RobotDescription \n",
    "  * KinematicChainDescription\n",
    "  * EndEffectorDescription\n",
    "  * CameraDescription\n",
    "\n",
    "In this example we will create a robot description step-by-step and describe the different components on the way. The robot we will use as an example will be the PR2, the complete PR2 description can also be seen in ``pycram.robot_descriptions.pr2_description``.\n",
    "\n",
    "## Robot Description Class \n",
    "We start by creating an instance of the ``RobotDescription`` class, this will serve as a the main component to which all other descriptions will be added. \n",
    "\n",
    "To initialize a ``RobotDescription`` we need a few parameter which are: \n",
    " * Name \n",
    " * base_link \n",
    " * torso_link \n",
    " * torso_joint\n",
    " * Path to a URDF file\n",
    " "
   ]
  },
  {
   "cell_type": "code",
   "execution_count": 9,
   "id": "4857333f",
   "metadata": {},
   "outputs": [
    {
     "name": "stderr",
     "output_type": "stream",
     "text": [
      "Unknown attribute \"type\" in /robot[@name='pr2']/link[@name='base_laser_link']\n",
      "Unknown attribute \"type\" in /robot[@name='pr2']/link[@name='wide_stereo_optical_frame']\n",
      "Unknown attribute \"type\" in /robot[@name='pr2']/link[@name='narrow_stereo_optical_frame']\n",
      "Unknown attribute \"type\" in /robot[@name='pr2']/link[@name='laser_tilt_link']\n"
     ]
    }
   ],
   "source": [
    "from pycram.robot_description import RobotDescription\n",
    "import rospkg\n",
    "\n",
    "rospack = rospkg.RosPack()\n",
    "filename = rospack.get_path('pycram') + '/resources/robots/' + \"pr2\" + '.urdf'\n",
    "\n",
    "pr2_description = RobotDescription(\"pr2\", \"base_link\", \"torso_lift_link\", \"torso_lift_joint\", filename)"
   ]
  },
  {
   "cell_type": "markdown",
   "id": "4a0bd430",
   "metadata": {},
   "source": [
    "## Kinematic Chain Description \n",
    "The kinematic chain description describes a chain of links and joints of the robot which might be interesting when working with the robot. An example of such a chain would be the arm of the robot, when programming for the robot it is important to know which links and joints exactly make up the arm, however, these can not be extracted from the URDF automatically. \n",
    "\n",
    "The kinematic chain is based upon the URDF, meaning when initializing the description one only needs to specify the first and last link of the chain. \n",
    "\n",
    "We will now create the kinematic chain description for the right arm of the PR2. For initializing the ``KinematicChainDescription`` the following parameter are needed: \n",
    "  * Name\n",
    "  * first link\n",
    "  * last link \n",
    "  * URDF object\n",
    "  * Arm type\n",
    "  \n",
    "The arm type specifies which arm this kinematic chain describes, this is needed when one wants to access only the arms of the robot."
   ]
  },
  {
   "cell_type": "code",
   "execution_count": 10,
   "id": "9bcb35b2",
   "metadata": {},
   "outputs": [],
   "source": [
    "from pycram.robot_description import KinematicChainDescription\n",
    "\n",
    "right_arm = KinematicChainDescription(\"right\", \"torso_lift_link\", \"r_wrist_roll_link\",\n",
    "                                      pr2_description.urdf_object, arm_type=Arms.RIGHT)"
   ]
  },
  {
   "cell_type": "markdown",
   "id": "e63061a0",
   "metadata": {},
   "source": [
    "The created ``KinematicChainDescription`` can now be added to the robot description."
   ]
  },
  {
   "cell_type": "code",
   "execution_count": 11,
   "id": "0dc4a9aa",
   "metadata": {},
   "outputs": [],
   "source": [
    "pr2_description.add_kinematic_chain_description(right_arm)"
   ]
  },
  {
   "cell_type": "markdown",
   "id": "546d5e02",
   "metadata": {},
   "source": [
    "## End Effector Description\n",
    "Since kinematic chains only describe a moveable chain of links and joints like arms these do not represent end-effectors which can be used to do manipulation tasks. \n",
    "\n",
    "To represent end-effectors we will create an ``EndEffectorDescription`` which contains the information of the respective end-effector. When creating an ``EndEffectorDescription`` we need the following parameter:\n",
    "  * Name \n",
    "  * first link \n",
    "  * tool_frame\n",
    "  * URDF object\n",
    "  \n",
    "You might have noticed that the end-efftor only has a first link but no last link, this is the case since end-effectors are at the end of the arms. Therefore, all links and joints below a certain link can be seen as part of the end-effector. "
   ]
  },
  {
   "cell_type": "code",
   "execution_count": 12,
   "id": "26e04470",
   "metadata": {},
   "outputs": [],
   "source": [
    "from pycram.robot_description import EndEffectorDescription\n",
    "\n",
    "right_gripper = EndEffectorDescription(\"right_gripper\", \"r_gripper_palm_link\", \"r_gripper_tool_frame\",\n",
    "                                       pr2_description.urdf_object)"
   ]
  },
  {
   "cell_type": "markdown",
   "id": "7676ffd4",
   "metadata": {},
   "source": [
    "The gripper can no be added to the previously created ``KinematicChainDescription``. "
   ]
  },
  {
   "cell_type": "code",
   "execution_count": 13,
   "id": "3543f03e",
   "metadata": {},
   "outputs": [],
   "source": [
    "right_arm.end_effector = right_gripper"
   ]
  },
  {
   "cell_type": "markdown",
   "id": "1a834355",
   "metadata": {},
   "source": [
    "## Camera Description \n",
    "The camera description contains all parameters of a camera, which is mounted on the robot. The parameter for the ``CameraDescription`` are:\n",
    "  * Name\n",
    "  * Link name \n",
    "  * minimal height \n",
    "  * maximal height\n",
    "  * horizontal angle \n",
    "  * vertical angle "
   ]
  },
  {
   "cell_type": "code",
   "execution_count": 14,
   "id": "4af8825c",
   "metadata": {},
   "outputs": [],
   "source": [
    "from pycram.robot_description import CameraDescription\n",
    "\n",
    "camera = CameraDescription(\"kinect_camera\", \"wide_stereo_optical_frame\", 1.27,\n",
    "                           1.60, 0.99483, 0.75049)"
   ]
  },
  {
   "cell_type": "markdown",
   "id": "ccedd9b5",
   "metadata": {},
   "source": [
    "The finished camera description can now be added to the robot description. "
   ]
  },
  {
   "cell_type": "code",
   "execution_count": 15,
   "id": "c9e65919",
   "metadata": {},
   "outputs": [],
   "source": [
    "pr2_description.add_camera_description(camera)"
   ]
  },
  {
   "cell_type": "markdown",
   "id": "364a9628",
   "metadata": {},
   "source": [
    "## Grasps \n",
    "Grasps define how a robot interacts with objects. The grasps defined in the robot description define for each grasp (right, left, top, front) the orientation of the end-effector, relative to the base_frame of the robot, to achieve the respective grasp. "
   ]
  },
  {
   "cell_type": "code",
   "execution_count": 16,
   "id": "73d85e49",
   "metadata": {},
   "outputs": [
    {
     "name": "stdout",
     "output_type": "stream",
     "text": [
      "shutdown request: [/pycram] Reason: new node registered with same name\n"
     ]
    }
   ],
   "source": [
    "pr2_description.add_grasp_orientations({Grasp.FRONT: [0, 0, 0, 1],\n",
    "                                        Grasp.LEFT: [0, 0, -1, 1],\n",
    "                                        Grasp.RIGHT: [0, 0, 1, 1],\n",
    "                                        Grasp.TOP: [0, 1, 0, 1]})"
   ]
  },
  {
   "cell_type": "markdown",
   "id": "c47a9198",
   "metadata": {},
   "source": [
    "## Register Robot Description\n",
    "Lastly, you need to register the robot description to the ``RobotDescriptionManager``. As you can see the code to register the robot description has to be executed at the start of PyCRAM, if you put your file with the robot description in the `pycram.robot_descriptions` directory it will be executed upon the start of PyCRAM."
   ]
  },
  {
   "cell_type": "code",
   "execution_count": null,
   "id": "3dce0d87",
   "metadata": {},
   "outputs": [],
   "source": [
    "rdm = RobotDescriptionManager()\n",
    "rdm.register_description(pr2_description)"
   ]
  }
 ],
 "metadata": {
  "kernelspec": {
   "display_name": "Python 3",
   "language": "python",
   "name": "python3"
  },
  "language_info": {
   "codemirror_mode": {
    "name": "ipython",
    "version": 3
   },
   "file_extension": ".py",
   "mimetype": "text/x-python",
   "name": "python",
   "nbconvert_exporter": "python",
   "pygments_lexer": "ipython3",
   "version": "3.8.10"
  }
 },
 "nbformat": 4,
 "nbformat_minor": 5
}
