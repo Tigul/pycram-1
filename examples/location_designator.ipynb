{
 "cells": [
  {
   "cell_type": "markdown",
   "id": "c77a50af",
   "metadata": {},
   "source": [
    "# Location Designator\n",
    "This example will show you what location designators are, how to use them and what they are capable of. \n",
    "\n",
    "Location Designators are used to semantically describe locations in the world. You could, for example, create a location designator that describes every position where a robot can be placed without colliding with the environment. Location designator can describe locations for:\n",
    "\n",
    "   * Visibility \n",
    "   * Reachability\n",
    "   * Occupancy \n",
    "   * URDF Links (for example a table)\n",
    "\n",
    "To find locations that fit the given constrains, location designator create Costmaps. Costmaps are a 2D distribution that have a value greater than 0 for every position that fits the costmap criteria.\n",
    "\n",
    "Location designators work similar to other designators, meaning you have to create a location designator description which describes the location. This description can then be resolved to the actual 6D pose on runtime.\n",
    "\n",
    "## Occupancy\n",
    "\n",
    "We will start with a simple location designator that describes a location where the robot can be placed without colliding with the environment. To do this we need a BulletWorld since the costmaps are mostly created from the current state of the BulletWorld. "
   ]
  },
  {
   "cell_type": "code",
   "execution_count": 1,
   "id": "f49247b7",
   "metadata": {},
   "outputs": [
    {
     "name": "stderr",
     "output_type": "stream",
     "text": [
      "Scalar element defined multiple times: limit\n",
      "Scalar element defined multiple times: limit\n"
     ]
    }
   ],
   "source": [
    "from pycram.worlds.bullet_worldbullet_worldbullet_worldt_worldt_world import BulletWorld, Object\n",
    "from pycram.datastructures.enums import ObjectType\n",
    "from pycram.datastructures.pose import Pose\n",
    "\n",
    "world = BulletWorld()\n",
    "kitchen = Object(\"kitchen\", ObjectType.ENVIRONMENT, \"kitchen.urdf\")"
   ]
  },
  {
   "cell_type": "code",
   "execution_count": 4,
   "id": "bfe54eb8",
   "metadata": {},
   "outputs": [],
   "source": [
    "world.exit()"
   ]
  },
  {
   "cell_type": "markdown",
   "id": "11a4ce95",
   "metadata": {},
   "source": [
    "Next up we will create the location designator description, the ```CostmapLocation``` that we will be using needs a target as a parameter. This target describes what the location designator is for, this could either be a pose or object that the robot should be able to see or reach.\n",
    "\n",
    "In this case we only want poses where the robot can be placed, this is the default behaviour of the location designator which we will be extending later. "
   ]
  },
  {
   "cell_type": "code",
   "execution_count": 2,
   "id": "dc560c16",
   "metadata": {},
   "outputs": [
    {
     "name": "stdout",
     "output_type": "stream",
     "text": [
      "CostmapLocation.Location(pose=header: \n",
      "  seq: 0\n",
      "  stamp: \n",
      "    secs: 1699625777\n",
      "    nsecs: 318477869\n",
      "  frame_id: \"map\"\n",
      "pose: \n",
      "  position: \n",
      "    x: 0.32\n",
      "    y: 0.46\n",
      "    z: 0.0\n",
      "  orientation: \n",
      "    x: -0.0\n",
      "    y: 0.0\n",
      "    z: 0.8863025691598214\n",
      "    w: -0.46310663556107684, reachable_arms=None)\n"
     ]
    }
   ],
   "source": [
    "from pycram.designators.location_designator import CostmapLocation\n",
    "\n",
    "target = kitchen.get_pose()\n",
    "\n",
    "location_description = CostmapLocation(target)\n",
    "\n",
    "pose = location_description.resolve()\n",
    "\n",
    "print(pose)"
   ]
  },
  {
   "cell_type": "markdown",
   "id": "acceb76b",
   "metadata": {},
   "source": [
    "## Reachable\n",
    "Next we want to locations from where the robot can reach a specific point, like an object the robot should pick up. This can also be done with the ```CostmapLocation``` description, but this time we need to provide an additional argument. The additional argument is the robo which should be able to reach the pose. \n",
    "\n",
    "Since a robot is needed we will use the PR2 and use a milk as a target point for the robot to reach. The torso of the PR2 will be set to 0.2 since otherwise the arms of the robot will be too low to reach on the countertop.\n"
   ]
  },
  {
   "cell_type": "code",
   "execution_count": 3,
   "id": "5db13f3e",
   "metadata": {},
   "outputs": [],
   "source": [
    "pr2 = Object(\"pr2\", ObjectType.ROBOT, \"pr2.urdf\")\n",
    "pr2.set_joint_state(\"torso_lift_joint\", 0.2)\n",
    "milk = Object(\"milk\", ObjectType.MILK, \"milk.stl\", pose=Pose([1.3, 1, 0.9]))\n"
   ]
  },
  {
   "cell_type": "code",
   "execution_count": 4,
   "id": "9de582fd",
   "metadata": {},
   "outputs": [
    {
     "name": "stdout",
     "output_type": "stream",
     "text": [
      "CostmapLocation.Location(pose=header: \n",
      "  seq: 0\n",
      "  stamp: \n",
      "    secs: 1699448386\n",
      "    nsecs: 194609165\n",
      "  frame_id: \"map\"\n",
      "pose: \n",
      "  position: \n",
      "    x: 0.52\n",
      "    y: 0.94\n",
      "    z: 0.0\n",
      "  orientation: \n",
      "    x: 0.0\n",
      "    y: 0.0\n",
      "    z: 0.03837651950358723\n",
      "    w: 0.9992633500488202, reachable_arms=['left', 'right'])\n"
     ]
    }
   ],
   "source": [
    "from pycram.designators.location_designator import CostmapLocation\n",
    "from pycram.designators.object_designator import BelieveObject\n",
    "\n",
    "target = BelieveObject(names=[\"milk\"]).resolve()\n",
    "robot_desig = BelieveObject(names=[\"pr2\"]).resolve()\n",
    "\n",
    "location_description = CostmapLocation(target=target, reachable_for=robot_desig)\n",
    "\n",
    "print(location_description.resolve())"
   ]
  },
  {
   "cell_type": "markdown",
   "id": "f91ef6f1",
   "metadata": {},
   "source": [
    "As you can see we get a pose near the countertop where the robot can be placed without colliding with it. Furthermore, we get a list of arms with which the robot can reach the given object."
   ]
  },
  {
   "cell_type": "markdown",
   "id": "6c890279",
   "metadata": {},
   "source": [
    "## Visibile\n",
    "The ```CostmapLocation``` can also find position from which the robot can see a given object or location. This is very similar to how reachable locations are described, meaning we provide a object designator or a pose and a robot designator but this time we use the ```visible_for``` parameter.  \n",
    "\n",
    "For this example we need the milk as well as the PR2, so if you did not spawn them during the previous location designator you can spawn them with the following cell.  "
   ]
  },
  {
   "cell_type": "code",
   "execution_count": null,
   "id": "ccf6f27e",
   "metadata": {},
   "outputs": [],
   "source": [
    "pr2 = Object(\"pr2\", ObjectType.ROBOT, \"pr2.urdf\")\n",
    "milk = Object(\"milk\", ObjectType.MILK, \"milk.stl\", pose=Pose([1.3, 1, 0.9]))"
   ]
  },
  {
   "cell_type": "code",
   "execution_count": 5,
   "id": "62397202",
   "metadata": {},
   "outputs": [
    {
     "name": "stdout",
     "output_type": "stream",
     "text": [
      "CostmapLocation.Location(pose=header: \n",
      "  seq: 0\n",
      "  stamp: \n",
      "    secs: 1699448390\n",
      "    nsecs: 664081811\n",
      "  frame_id: \"map\"\n",
      "pose: \n",
      "  position: \n",
      "    x: 0.7000000000000001\n",
      "    y: 0.040000000000000036\n",
      "    z: 0.0\n",
      "  orientation: \n",
      "    x: 0.0\n",
      "    y: 0.0\n",
      "    z: 0.4847685323929452\n",
      "    w: 0.8746424812468178, reachable_arms=None)\n"
     ]
    }
   ],
   "source": [
    "from pycram.designators.location_designator import CostmapLocation\n",
    "from pycram.designators.object_designator import BelieveObject\n",
    "\n",
    "target = BelieveObject(names=[\"milk\"]).resolve()\n",
    "robot_desig = BelieveObject(names=[\"pr2\"]).resolve()\n",
    "\n",
    "location_description = CostmapLocation(target=target, visible_for=robot_desig)\n",
    "\n",
    "print(location_description.resolve())"
   ]
  },
  {
   "cell_type": "markdown",
   "id": "fac411a9",
   "metadata": {},
   "source": [
    "## Semantic \n",
    "Semantic location designator are used to create location descriptions for semantic entities, like a table. An example of this is: You have a robot that picked up an object and should place it on a table. Semantic location designator then allows to find poses that are on this table.\n",
    "\n",
    "Semantic location designator need an object from which the target entity is a part and the URDF link representing the entity. In this case we want a position on the kitchen island, so we have to provide the kitchen object designator since the island is a part of the kitchen and the link name of the island surface. \n",
    "\n",
    "For this example we need the kitchen as well as the milk. If you spawned them in one of the previous examples you don't need to execute the following cell."
   ]
  },
  {
   "cell_type": "code",
   "execution_count": 8,
   "id": "0cf46208",
   "metadata": {},
   "outputs": [],
   "source": [
    "kitchen = Object(\"kitchen\", ObjectType.ENVIRONMENT, \"kitchen.urdf\")\n",
    "milk = Object(\"milk\", ObjectType.MILK, \"milk.stl\")"
   ]
  },
  {
   "cell_type": "code",
   "execution_count": 6,
   "id": "c16dcb0f",
   "metadata": {},
   "outputs": [
    {
     "name": "stdout",
     "output_type": "stream",
     "text": [
      "SemanticCostmapLocation.Location(pose=header: \n",
      "  seq: 0\n",
      "  stamp: \n",
      "    secs: 1699448395\n",
      "    nsecs: 710832595\n",
      "  frame_id: \"map\"\n",
      "pose: \n",
      "  position: \n",
      "    x: -1.2074999952316285\n",
      "    y: 1.019200015068054\n",
      "    z: 0.9398907270729542\n",
      "  orientation: \n",
      "    x: 0.0\n",
      "    y: 0.0\n",
      "    z: 0.6339889056055381\n",
      "    w: 0.7733421413379024)\n"
     ]
    }
   ],
   "source": [
    "from pycram.designators.location_designator import SemanticCostmapLocation \n",
    "from pycram.designators.object_designator import BelieveObject\n",
    "\n",
    "kitchen_desig = BelieveObject(names=[\"kitchen\"]).resolve()\n",
    "milk_desig = BelieveObject(names=[\"milk\"]).resolve()\n",
    "\n",
    "location_description = SemanticCostmapLocation(urdf_link_name=\"kitchen_island_surface\", \n",
    "                                               part_of=kitchen_desig,\n",
    "                                              for_object=milk_desig)\n",
    "\n",
    "print(location_description.resolve())"
   ]
  },
  {
   "cell_type": "markdown",
   "id": "539752b0",
   "metadata": {},
   "source": [
    "## Location Designator as Generator\n",
    "Location designator descriptions implement an iter method, so they can be used as generators which generate valid poses for the location described in the description. This can be useful if the first pose does not work for some reason. \n",
    "\n",
    "We will see this at the example of a location designator for visibility. For this example we need the milk, if you already have a milk spawned in you world you can ignore the following cell."
   ]
  },
  {
   "cell_type": "code",
   "execution_count": null,
   "id": "7c5f021b",
   "metadata": {},
   "outputs": [],
   "source": [
    "milk = Object(\"milk\", ObjectType.MILK, \"milk.stl\")"
   ]
  },
  {
   "cell_type": "code",
   "execution_count": null,
   "id": "238a573e",
   "metadata": {},
   "outputs": [],
   "source": [
    "from pycram.designators.location_designator import CostmapLocation\n",
    "from pycram.designators.object_designator import BelieveObject\n",
    "\n",
    "target = BelieveObject(names=[\"milk\"]).resolve()\n",
    "robot_desig = BelieveObject(names=[\"pr2\"]).resolve()\n",
    "\n",
    "location_description = CostmapLocation(target=target, visible_for=robot_desig)\n",
    "\n",
    "for pose in location_description:\n",
    "    print(pose.pose)"
   ]
  },
  {
   "cell_type": "markdown",
   "id": "60507a07",
   "metadata": {},
   "source": [
    "## Accessing Locations\n",
    "Accessing describes a location from which the robot can open a drawer. The drawer is specified by a ObjetcPart designator which describes the handle of the drawer.\n",
    "\n",
    "At the moment this location designator only works in the apartment environment, so please remove the kitchen if you spawned it in a previous example. Furthermore, we need a robot, so we also spawn the PR2 if it isn't spawned already."
   ]
  },
  {
   "cell_type": "code",
   "execution_count": 8,
   "id": "872ad635",
   "metadata": {},
   "outputs": [],
   "source": [
    "kitchen.remove()"
   ]
  },
  {
   "cell_type": "code",
   "execution_count": 9,
   "id": "9fe5c6b1",
   "metadata": {},
   "outputs": [
    {
     "name": "stderr",
     "output_type": "stream",
     "text": [
      "Unknown tag \"material\" in /robot[@name='apartment']/link[@name='coffe_machine']/collision[1]\n",
      "Unknown tag \"material\" in /robot[@name='apartment']/link[@name='coffe_machine']/collision[1]\n"
     ]
    }
   ],
   "source": [
    "apartment = Object(\"apartment\", ObjectType.ENVIRONMENT, \"apartment.urdf\")"
   ]
  },
  {
   "cell_type": "code",
   "execution_count": 10,
   "id": "a324476f",
   "metadata": {},
   "outputs": [
    {
     "name": "stderr",
     "output_type": "stream",
     "text": [
      "Unknown attribute \"type\" in /robot[@name='pr2']/link[@name='base_laser_link']\n",
      "Unknown attribute \"type\" in /robot[@name='pr2']/link[@name='wide_stereo_optical_frame']\n",
      "Unknown attribute \"type\" in /robot[@name='pr2']/link[@name='narrow_stereo_optical_frame']\n",
      "Unknown attribute \"type\" in /robot[@name='pr2']/link[@name='laser_tilt_link']\n",
      "Unknown attribute \"type\" in /robot[@name='pr2']/link[@name='base_laser_link']\n",
      "Unknown attribute \"type\" in /robot[@name='pr2']/link[@name='wide_stereo_optical_frame']\n",
      "Unknown attribute \"type\" in /robot[@name='pr2']/link[@name='narrow_stereo_optical_frame']\n",
      "Unknown attribute \"type\" in /robot[@name='pr2']/link[@name='laser_tilt_link']\n"
     ]
    }
   ],
   "source": [
    "pr2 = Object(\"pr2\", ObjectType.ROBOT, \"pr2.urdf\")\n",
    "pr2.set_joint_state(\"torso_lift_joint\", 0.25)"
   ]
  },
  {
   "cell_type": "code",
   "execution_count": 10,
   "id": "3da86bec",
   "metadata": {},
   "outputs": [
    {
     "name": "stdout",
     "output_type": "stream",
     "text": [
      "header: \n",
      "  seq: 0\n",
      "  stamp: \n",
      "    secs: 1699448422\n",
      "    nsecs: 547766208\n",
      "  frame_id: \"map\"\n",
      "pose: \n",
      "  position: \n",
      "    x: 1.8074915790557862\n",
      "    y: 2.7473597526550293\n",
      "    z: 0.0\n",
      "  orientation: \n",
      "    x: -0.0\n",
      "    y: 0.0\n",
      "    z: 0.5893608715092853\n",
      "    w: -0.8078698924541103\n"
     ]
    }
   ],
   "source": [
    "from pycram.designators.object_designator import *\n",
    "from pycram.designators.location_designator import *\n",
    "\n",
    "apartment_desig = BelieveObject(names=[\"apartment\"])\n",
    "handle_desig = ObjectPart(names=[\"handle_cab10_t\"], part_of=apartment_desig.resolve())\n",
    "robot_desig = BelieveObject(names=[\"pr2\"])\n",
    "\n",
    "access_location = AccessingLocation(handle_desig.resolve(), robot_desig.resolve()).resolve()\n",
    "print(access_location.pose)"
   ]
  },
  {
   "cell_type": "markdown",
   "id": "5bed17c4",
   "metadata": {},
   "source": [
    "## Giskard Location\n",
    "Some robots like the HSR or the Stretch2 need a full-body ik solver to utilize the whole body. For this case robots the ```GiskardLocation``` can be used. This location designator uses giskard as an ik solver to find a pose for the robot to reach a target pose. \n",
    "\n",
    "**Note:** The GiskardLocation relies on Giskard, therefore Giskard needs to run in order for this Location Designator to work."
   ]
  },
  {
   "cell_type": "code",
   "execution_count": null,
   "id": "a8f382e9",
   "metadata": {},
   "outputs": [],
   "source": [
    "from pycram.resolver.location.giskard_location import GiskardLocation\n",
    "\n",
    "robot_desig = BelieveObject(names=[\"pr2\"]).resolve()\n",
    "\n",
    "loc = GiskardLocation(target=Pose([1, 1, 1]), reachable_for=robot_desig).resolve()\n",
    "print(loc.pose)"
   ]
  }
 ],
 "metadata": {
  "kernelspec": {
   "display_name": "Python 3",
   "language": "python",
   "name": "python3"
  },
  "language_info": {
   "codemirror_mode": {
    "name": "ipython",
    "version": 3
   },
   "file_extension": ".py",
   "mimetype": "text/x-python",
   "name": "python",
   "nbconvert_exporter": "python",
   "pygments_lexer": "ipython3",
   "version": "3.8.10"
  }
 },
 "nbformat": 4,
 "nbformat_minor": 5
}
