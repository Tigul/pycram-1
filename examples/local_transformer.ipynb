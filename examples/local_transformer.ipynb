{
 "cells": [
  {
   "cell_type": "markdown",
   "id": "8ac66f75",
   "metadata": {},
   "source": [
    "# Local Transformer\n",
    "The local transformer is used to handle transforms between different frames in PyCRAM. This is useful when you want to transform a pose from one frame to another, for example, from the map frame to the frame of an object. This example will introduce the Local Transformer and how to use it to transform poses between frames.\n",
    "\n",
    "## Setting up the Environment\n",
    "\n",
    "This step involves importing the required modules and initializing key components for our tasks.\n"
   ]
  },
  {
   "cell_type": "code",
   "execution_count": 1,
   "id": "982e0c0e",
   "metadata": {
    "ExecuteTime": {
     "end_time": "2024-02-07T09:18:56.397119146Z",
     "start_time": "2024-02-07T09:18:56.384091718Z"
    }
   },
   "outputs": [],
   "source": [
    "from pycram.worlds.bullet_world import BulletWorld, Object\n",
    "from pycram.datastructures.pose import Transform, Pose\n",
    "from pycram.local_transformer import LocalTransformer"
   ]
  },
  {
   "cell_type": "markdown",
   "id": "fcb189ce",
   "metadata": {},
   "source": [
    "\n",
    "## Initializing the World\n",
    "\n",
    "Every robot simulation requires a world where it can interact. This world serves as the playground where the robot performs tasks. \n",
    "Let's start by creating this world.\n",
    "\n",
    "Since the local transformer can only transform between frames of objects which are in the world, we need to create a world first.\n"
   ]
  },
  {
   "cell_type": "code",
   "execution_count": 2,
   "id": "e1761e68",
   "metadata": {},
   "outputs": [],
   "source": [
    "# Create an instance of the BulletWorld\n",
    "world = BulletWorld(WorldMode.GUI)\n"
   ]
  },
  {
   "cell_type": "markdown",
   "id": "6d11e975",
   "metadata": {},
   "source": [
    "\n",
    "## Adding Objects to the World\n",
    "\n",
    "For our robot to perform meaningful tasks, we need to populate its world with objects. \n",
    "In this section, we'll add a variety of objects, from a simple floor plane to kitchen setups and items like milk and bowls. \n",
    "These objects will be used in subsequent tasks, to provide the frames to which we will transform poses.\n"
   ]
  },
  {
   "cell_type": "code",
   "execution_count": 3,
   "id": "7b5f237b",
   "metadata": {
    "ExecuteTime": {
     "end_time": "2024-02-07T09:19:12.883651520Z",
     "start_time": "2024-02-07T09:19:09.027873229Z"
    }
   },
   "outputs": [
    {
     "name": "stderr",
     "output_type": "stream",
     "text": [
      "Scalar element defined multiple times: limit\n",
      "Unknown tag \"rgba_color\" in /robot[@name='milk_object']/link[@name='milk_main']/visual[1]/material[@name='white']\n",
      "Scalar element defined multiple times: limit\n",
      "Unknown tag \"rgba_color\" in /robot[@name='bowl_object']/link[@name='bowl_main']/visual[1]/material[@name='white']\n",
      "Unknown tag \"rgba_color\" in /robot[@name='milk_object']/link[@name='milk_main']/visual[1]/material[@name='white']\n",
      "Unknown tag \"rgba_color\" in /robot[@name='bowl_object']/link[@name='bowl_main']/visual[1]/material[@name='white']\n"
     ]
    }
   ],
   "source": [
    "from pycram.worlds.bullet_world import Object\n",
    "from pycram.datastructures.enums import ObjectType\n",
    "\n",
    "kitchen = Object(\"kitchen\", ObjectType.ENVIRONMENT, \"kitchen.urdf\")\n",
    "milk = Object(\"milk\", ObjectType.MILK, \"milk.stl\", pose=Pose([0.9, 1, 0.95]))\n",
    "bowl = Object(\"bowl\", ObjectType.BOWL, \"bowl.stl\", pose=Pose([1.6, 1, 0.90]))"
   ]
  },
  {
   "cell_type": "markdown",
   "id": "bebad92e",
   "metadata": {},
   "source": [
    "## Creating a Local Transfomer\n",
    "The local transformer is implemented as a singelton, meaing regardless of how much and where an instance is created it will always be the same instance. This is done since the local transfomer collects all transformations between frames and would there always be a new instance, all transformations woulb need to be re-collected. "
   ]
  },
  {
   "cell_type": "code",
   "execution_count": 4,
   "id": "c53232dd",
   "metadata": {
    "ExecuteTime": {
     "end_time": "2024-02-07T09:19:17.445812011Z",
     "start_time": "2024-02-07T09:19:17.433695422Z"
    }
   },
   "outputs": [
    {
     "name": "stdout",
     "output_type": "stream",
     "text": [
      "<pycram.local_transformer.LocalTransformer object at 0x7f1634253fa0>\n",
      "<pycram.local_transformer.LocalTransformer object at 0x7f1634253fa0>\n"
     ]
    }
   ],
   "source": [
    "from pycram.local_transformer import LocalTransformer\n",
    "\n",
    "local_transformer = LocalTransformer()\n",
    "print(local_transformer)\n",
    "\n",
    "new_local_transformer = LocalTransformer()\n",
    "print(new_local_transformer)"
   ]
  },
  {
   "cell_type": "markdown",
   "id": "9f48045d",
   "metadata": {},
   "source": [
    "## Transformations with LocalTransformer\n",
    "Now that we have our world set up, let's perform some transformations. We'll use the LocalTransformer to transform poses relative to our objects."
   ]
  },
  {
   "cell_type": "code",
   "execution_count": 6,
   "id": "3e4ddcbb",
   "metadata": {
    "ExecuteTime": {
     "end_time": "2024-02-07T09:19:19.412829961Z",
     "start_time": "2024-02-07T09:19:19.398278560Z"
    }
   },
   "outputs": [
    {
     "name": "stdout",
     "output_type": "stream",
     "text": [
      "header: \n",
      "  seq: 0\n",
      "  stamp: \n",
      "    secs: 1719580039\n",
      "    nsecs: 535519838\n",
      "  frame_id: \"milk\"\n",
      "pose: \n",
      "  position: \n",
      "    x: 0.09999999999999998\n",
      "    y: 0.0\n",
      "    z: 0.050000000000000044\n",
      "  orientation: \n",
      "    x: 0.0\n",
      "    y: 0.0\n",
      "    z: 0.0\n",
      "    w: 1.0\n",
      "-------------------\n",
      "header: \n",
      "  seq: 0\n",
      "  stamp: \n",
      "    secs: 1719580039\n",
      "    nsecs: 538168430\n",
      "  frame_id: \"map\"\n",
      "pose: \n",
      "  position: \n",
      "    x: 1.0\n",
      "    y: 1.0\n",
      "    z: 1.0\n",
      "  orientation: \n",
      "    x: 0.0\n",
      "    y: 0.0\n",
      "    z: 0.0\n",
      "    w: 1.0\n"
     ]
    }
   ],
   "source": [
    "from pycram.local_transformer import LocalTransformer\n",
    "\n",
    "l = LocalTransformer()\n",
    "test_pose = Pose([1, 1, 1], [0, 0, 0, 1], \"map\")\n",
    "\n",
    "transformed_pose = l.transform_to_object_frame(test_pose, milk)\n",
    "print(transformed_pose)\n",
    "\n",
    "print(\"-------------------\")\n",
    "new_pose = l.transform_pose(transformed_pose, \"map\")\n",
    "print(new_pose)"
   ]
  },
  {
   "cell_type": "markdown",
   "id": "10dde4b6",
   "metadata": {},
   "source": [
    "In the above code, we first transformed a pose to the object frame of the milk object, and then we transformed it back to the map frame. This demonstrates how we can easily manipulate poses relative to objects in our environment.\n",
    "You can also transform poses relative to other poses. by using the transform_pose method. Further you can set a Transform."
   ]
  },
  {
   "cell_type": "code",
   "execution_count": 7,
   "id": "7caa6ec2",
   "metadata": {
    "ExecuteTime": {
     "end_time": "2024-02-07T09:19:24.941756539Z",
     "start_time": "2024-02-07T09:19:24.929728567Z"
    }
   },
   "outputs": [],
   "source": [
    "from pycram.datastructures.pose import Transform\n",
    "\n",
    "l.setTransform(Transform([1, 1, 1], [0, 0, 0, 1], \"map\", \"test_frame\"))\n",
    "p = Pose()\n",
    "\n",
    "transformed_pose = l.transform_pose(p, \"test_frame\")"
   ]
  },
  {
   "cell_type": "markdown",
   "id": "53a9e75e",
   "metadata": {},
   "source": [
    "## Transformation frames\n",
    "As you can see in the example above the frame_id of the object is not 'milk' but 'milk_4'. This is done since frame_ids need to be unique, however, the name of an Object does not. To solve this problem the name of an Object is concatenated with a unique id therefore making it unique. \n",
    "\n",
    "Furthermore, links of an Object are represented by the Object frame_id + '/' + link name. Since link names need to be unique for an URDF this is no problem.\n",
    "\n",
    "These frames need to be used in whenever you are transforming something with the local transformer. To get the base frame of an Object, meaning the frame name without any link there is the attribute tf_frame and for the frame of a link there is the collection links from which you can access all link objects by name, link objects also have the attribute tf_frame which gives the tf_frame of the link. "
   ]
  },
  {
   "cell_type": "code",
   "execution_count": 11,
   "id": "ef49ffc8",
   "metadata": {
    "ExecuteTime": {
     "end_time": "2024-02-07T09:20:26.251771677Z",
     "start_time": "2024-02-07T09:20:26.240730107Z"
    }
   },
   "outputs": [
    {
     "name": "stdout",
     "output_type": "stream",
     "text": [
      "milk\n",
      "kitchen/kitchen_island_surface\n"
     ]
    }
   ],
   "source": [
    "print(milk.tf_frame)\n",
    "\n",
    "print(kitchen.get_link_tf_frame(\"kitchen_island_surface\"))"
   ]
  },
  {
   "cell_type": "markdown",
   "id": "9dd72437",
   "metadata": {},
   "source": [
    "You can use the cell below to exit the simulation."
   ]
  },
  {
   "cell_type": "code",
   "execution_count": 12,
   "id": "5d241b6d",
   "metadata": {},
   "outputs": [],
   "source": [
    "world.exit()"
   ]
  }
 ],
 "metadata": {
  "kernelspec": {
   "display_name": "Python 3",
   "language": "python",
   "name": "python3"
  },
  "language_info": {
   "codemirror_mode": {
    "name": "ipython",
    "version": 3
   },
   "file_extension": ".py",
   "mimetype": "text/x-python",
   "name": "python",
   "nbconvert_exporter": "python",
   "pygments_lexer": "ipython3",
   "version": "3.8.10"
  }
 },
 "nbformat": 4,
 "nbformat_minor": 5
}
